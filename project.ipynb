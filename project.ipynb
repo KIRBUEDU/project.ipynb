{
  "cells": [
    {
      "cell_type": "markdown",
      "metadata": {
        "id": "DDELa7o5UXrY"
      },
      "source": [
        "# DX 704 Week 1 Project\n",
        "\n",
        "This week's project will build a portfolio risk and return model, and make investing recommendations for hypothetical clients.\n",
        "You will collect historical data, estimate returns and risks, construct efficient frontier portfolios, and sanity check the certainty of the maximum return portfolio."
      ]
    },
    {
      "cell_type": "markdown",
      "metadata": {
        "id": "P6SxppNu8p8k"
      },
      "source": [
        "The full project description and a template notebook are available on GitHub at the following link.\n",
        "\n",
        "https://github.com/bu-cds-dx704/dx704-project-01\n"
      ]
    },
    {
      "cell_type": "markdown",
      "metadata": {
        "id": "GmIaQcdCwObV"
      },
      "source": [
        "Feel free to use optimization tools or libraries (such as CVXOPT or scipy.optimize) to perform any calculations required for this mini project."
      ]
    },
    {
      "cell_type": "markdown",
      "metadata": {},
      "source": [
        "### Example Code\n",
        "\n",
        "You may find it helpful to refer to these GitHub repositories of Jupyter notebooks for example code.\n",
        "\n",
        "* https://github.com/bu-cds-omds/dx601-examples\n",
        "* https://github.com/bu-cds-omds/dx602-examples\n",
        "* https://github.com/bu-cds-omds/dx603-examples\n",
        "* https://github.com/bu-cds-omds/dx704-examples\n",
        "\n",
        "Any calculations demonstrated in code examples or videos may be found in these notebooks, and you are allowed to copy this example code in your homework answers."
      ]
    },
    {
      "cell_type": "markdown",
      "metadata": {
        "id": "pv3PslO0V5Lm"
      },
      "source": [
        "## Part 1: Collect Data\n",
        "\n",
        "Collect historical monthly price data for the last 24 months covering 6 different stocks.\n",
        "The data should cover 24 consecutive months including the last month that ended before this week's material was released on Blackboard.\n",
        "To be clear, if a month ends between the Blackboard release and submitting your project, you do not need to add that month.\n",
        "\n",
        "The six different stocks must include AAPL, SPY and TSLA.\n",
        "At least one of the remaining 3 tickers must start with the same letter as your last name (e.g. professor Considine could use COIN).\n",
        "This is to encourage diversity in what stocks you analyze; if you discuss this project with classmates, please make sure that you pick different tickers to differentiate your work.\n",
        "Do not pick stocks with fewer than 24 consecutive months of price data."
      ]
    },
    {
      "cell_type": "code",
      "execution_count": 4,
      "metadata": {},
      "outputs": [
        {
          "name": "stdout",
          "output_type": "stream",
          "text": [
            "Saved historical_prices.tsv with shape (24, 7)\n",
            "Window: 2023-09-30 → 2025-08-31\n"
          ]
        },
        {
          "name": "stderr",
          "output_type": "stream",
          "text": [
            "/tmp/ipykernel_5870/1651105955.py:44: FutureWarning: 'M' is deprecated and will be removed in a future version, please use 'ME' instead.\n",
            "  monthly = adj.resample(\"M\").last()\n"
          ]
        },
        {
          "data": {
            "application/vnd.microsoft.datawrangler.viewer.v0+json": {
              "columns": [
                {
                  "name": "index",
                  "rawType": "int64",
                  "type": "integer"
                },
                {
                  "name": "date",
                  "rawType": "datetime64[ns]",
                  "type": "datetime"
                },
                {
                  "name": "AAPL",
                  "rawType": "float64",
                  "type": "float"
                },
                {
                  "name": "SPY",
                  "rawType": "float64",
                  "type": "float"
                },
                {
                  "name": "TSLA",
                  "rawType": "float64",
                  "type": "float"
                },
                {
                  "name": "MSFT",
                  "rawType": "float64",
                  "type": "float"
                },
                {
                  "name": "NVDA",
                  "rawType": "float64",
                  "type": "float"
                },
                {
                  "name": "PLTR",
                  "rawType": "float64",
                  "type": "float"
                }
              ],
              "ref": "41a4a912-ef82-40ab-8d64-130857f3c9a9",
              "rows": [
                [
                  "0",
                  "2023-09-30 00:00:00",
                  "169.54928588867188",
                  "417.8656311035156",
                  "250.22000122070312",
                  "311.0623474121094",
                  "43.475830078125",
                  "16.0"
                ],
                [
                  "1",
                  "2023-10-31 00:00:00",
                  "169.11354064941406",
                  "408.7944030761719",
                  "200.83999633789062",
                  "333.0903625488281",
                  "40.758277893066406",
                  "14.800000190734863"
                ],
                [
                  "2",
                  "2023-11-30 00:00:00",
                  "188.35533142089844",
                  "446.13519287109375",
                  "240.0800018310547",
                  "374.042236328125",
                  "46.745086669921875",
                  "20.049999237060547"
                ],
                [
                  "3",
                  "2023-12-31 00:00:00",
                  "190.91366577148438",
                  "466.503662109375",
                  "248.47999572753906",
                  "371.20916748046875",
                  "49.49997329711914",
                  "17.170000076293945"
                ],
                [
                  "4",
                  "2024-01-31 00:00:00",
                  "182.85191345214844",
                  "473.9334716796875",
                  "187.2899932861328",
                  "392.4724426269531",
                  "61.4996337890625",
                  "16.09000015258789"
                ]
              ],
              "shape": {
                "columns": 7,
                "rows": 5
              }
            },
            "text/html": [
              "<div>\n",
              "<style scoped>\n",
              "    .dataframe tbody tr th:only-of-type {\n",
              "        vertical-align: middle;\n",
              "    }\n",
              "\n",
              "    .dataframe tbody tr th {\n",
              "        vertical-align: top;\n",
              "    }\n",
              "\n",
              "    .dataframe thead th {\n",
              "        text-align: right;\n",
              "    }\n",
              "</style>\n",
              "<table border=\"1\" class=\"dataframe\">\n",
              "  <thead>\n",
              "    <tr style=\"text-align: right;\">\n",
              "      <th>Ticker</th>\n",
              "      <th>date</th>\n",
              "      <th>AAPL</th>\n",
              "      <th>SPY</th>\n",
              "      <th>TSLA</th>\n",
              "      <th>MSFT</th>\n",
              "      <th>NVDA</th>\n",
              "      <th>PLTR</th>\n",
              "    </tr>\n",
              "  </thead>\n",
              "  <tbody>\n",
              "    <tr>\n",
              "      <th>0</th>\n",
              "      <td>2023-09-30</td>\n",
              "      <td>169.549286</td>\n",
              "      <td>417.865631</td>\n",
              "      <td>250.220001</td>\n",
              "      <td>311.062347</td>\n",
              "      <td>43.475830</td>\n",
              "      <td>16.000000</td>\n",
              "    </tr>\n",
              "    <tr>\n",
              "      <th>1</th>\n",
              "      <td>2023-10-31</td>\n",
              "      <td>169.113541</td>\n",
              "      <td>408.794403</td>\n",
              "      <td>200.839996</td>\n",
              "      <td>333.090363</td>\n",
              "      <td>40.758278</td>\n",
              "      <td>14.800000</td>\n",
              "    </tr>\n",
              "    <tr>\n",
              "      <th>2</th>\n",
              "      <td>2023-11-30</td>\n",
              "      <td>188.355331</td>\n",
              "      <td>446.135193</td>\n",
              "      <td>240.080002</td>\n",
              "      <td>374.042236</td>\n",
              "      <td>46.745087</td>\n",
              "      <td>20.049999</td>\n",
              "    </tr>\n",
              "    <tr>\n",
              "      <th>3</th>\n",
              "      <td>2023-12-31</td>\n",
              "      <td>190.913666</td>\n",
              "      <td>466.503662</td>\n",
              "      <td>248.479996</td>\n",
              "      <td>371.209167</td>\n",
              "      <td>49.499973</td>\n",
              "      <td>17.170000</td>\n",
              "    </tr>\n",
              "    <tr>\n",
              "      <th>4</th>\n",
              "      <td>2024-01-31</td>\n",
              "      <td>182.851913</td>\n",
              "      <td>473.933472</td>\n",
              "      <td>187.289993</td>\n",
              "      <td>392.472443</td>\n",
              "      <td>61.499634</td>\n",
              "      <td>16.090000</td>\n",
              "    </tr>\n",
              "  </tbody>\n",
              "</table>\n",
              "</div>"
            ],
            "text/plain": [
              "Ticker       date        AAPL         SPY        TSLA        MSFT       NVDA  \\\n",
              "0      2023-09-30  169.549286  417.865631  250.220001  311.062347  43.475830   \n",
              "1      2023-10-31  169.113541  408.794403  200.839996  333.090363  40.758278   \n",
              "2      2023-11-30  188.355331  446.135193  240.080002  374.042236  46.745087   \n",
              "3      2023-12-31  190.913666  466.503662  248.479996  371.209167  49.499973   \n",
              "4      2024-01-31  182.851913  473.933472  187.289993  392.472443  61.499634   \n",
              "\n",
              "Ticker       PLTR  \n",
              "0       16.000000  \n",
              "1       14.800000  \n",
              "2       20.049999  \n",
              "3       17.170000  \n",
              "4       16.090000  "
            ]
          },
          "metadata": {},
          "output_type": "display_data"
        }
      ],
      "source": [
        "# --- Part 1: Build and save historical_prices.tsv (24 months, last trading day) ---\n",
        "\n",
        "import sys\n",
        "import pandas as pd\n",
        "\n",
        "# Optional: auto-install yfinance if missing (works in Jupyter/Colab)\n",
        "try:\n",
        "    import yfinance as yf\n",
        "except ImportError:\n",
        "    print(\"yfinance not found; installing...\")\n",
        "    !{sys.executable} -m pip install -q yfinance\n",
        "    import yfinance as yf\n",
        "\n",
        "# Your six tickers\n",
        "tickers = [\"AAPL\", \"SPY\", \"TSLA\", \"MSFT\", \"NVDA\", \"PLTR\"]\n",
        "\n",
        "# Compute window: last 24 COMPLETE months\n",
        "today = pd.Timestamp.today().tz_localize(None)\n",
        "first_of_this_month = pd.Timestamp(today.year, today.month, 1)\n",
        "end_month = first_of_this_month - pd.Timedelta(days=1)                # last calendar day of previous month\n",
        "start_month = (end_month - pd.DateOffset(months=23)).replace(day=1)   # first day 23 months earlier (24 months total)\n",
        "\n",
        "# Download enough daily data to cover the window (with a small buffer)\n",
        "df = yf.download(\n",
        "    tickers=tickers,\n",
        "    start=start_month - pd.Timedelta(days=3),\n",
        "    end=end_month + pd.Timedelta(days=1),      # yfinance end is exclusive\n",
        "    progress=False,\n",
        "    auto_adjust=False,                          # keep explicit Adj Close\n",
        "    group_by=\"column\"\n",
        ")\n",
        "\n",
        "# Extract Adjusted Close regardless of df shape (MultiIndex expected)\n",
        "if isinstance(df.columns, pd.MultiIndex):\n",
        "    adj = df[\"Adj Close\"].copy()\n",
        "else:\n",
        "    # Fallback: single-level columns (rare). Try to keep only our tickers.\n",
        "    adj = df.filter(items=tickers).copy()\n",
        "\n",
        "# Restrict to our monthly window (safety slice)\n",
        "adj = adj.loc[start_month:end_month]\n",
        "\n",
        "# Resample to month-end and take the last available TRADING day in each month\n",
        "monthly = adj.resample(\"M\").last()\n",
        "\n",
        "# Keep exactly 24 rows and ensure column order\n",
        "monthly = monthly.loc[(monthly.index >= start_month) & (monthly.index <= end_month)]\n",
        "monthly = monthly.tail(24).reindex(columns=tickers)\n",
        "\n",
        "# Final table: 'date' + 6 tickers\n",
        "monthly.index.name = \"date\"\n",
        "prices_wide = monthly.reset_index()\n",
        "\n",
        "# Optional sanity checks\n",
        "assert prices_wide.shape[0] == 24, f\"Expected 24 months, got {prices_wide.shape[0]}\"\n",
        "assert list(prices_wide.columns) == [\"date\"] + tickers\n",
        "\n",
        "# Save as TSV\n",
        "prices_wide.to_csv(\"historical_prices.tsv\", sep=\"\\t\", index=False)\n",
        "\n",
        "print(f\"Saved historical_prices.tsv with shape {prices_wide.shape}\")\n",
        "print(f\"Window: {prices_wide.iloc[0,0].date()} → {prices_wide.iloc[-1,0].date()}\")\n",
        "display(prices_wide.head())\n"
      ]
    },
    {
      "cell_type": "markdown",
      "metadata": {
        "id": "1uH9oDQ1rEQT"
      },
      "source": [
        "Save the data as a TSV file named \"historical_prices.tsv\" and include a header row with the column names \"date\" and the 6 stock ticker symbols.\n",
        "The date should be the last trading day of the month, so it may not be the last day of the month.\n",
        "For example, the last trading day of November 2024 was 2024-11-29.\n",
        "The remaining columns should contain the adjusted closing prices of the corresponding stock tickers on that day.\n"
      ]
    },
    {
      "cell_type": "code",
      "execution_count": 5,
      "metadata": {
        "id": "mHbwKHOhtQ3E"
      },
      "outputs": [
        {
          "name": "stdout",
          "output_type": "stream",
          "text": [
            "Saved historical_prices.tsv\n"
          ]
        },
        {
          "name": "stderr",
          "output_type": "stream",
          "text": [
            "/tmp/ipykernel_5870/2791013402.py:13: FutureWarning: 'M' is deprecated and will be removed in a future version, please use 'ME' instead.\n",
            "  monthly = adj.resample(\"M\").last()\n"
          ]
        },
        {
          "data": {
            "application/vnd.microsoft.datawrangler.viewer.v0+json": {
              "columns": [
                {
                  "name": "index",
                  "rawType": "int64",
                  "type": "integer"
                },
                {
                  "name": "date",
                  "rawType": "datetime64[ns]",
                  "type": "datetime"
                },
                {
                  "name": "AAPL",
                  "rawType": "float64",
                  "type": "float"
                },
                {
                  "name": "MSFT",
                  "rawType": "float64",
                  "type": "float"
                },
                {
                  "name": "NVDA",
                  "rawType": "float64",
                  "type": "float"
                },
                {
                  "name": "PLTR",
                  "rawType": "float64",
                  "type": "float"
                },
                {
                  "name": "SPY",
                  "rawType": "float64",
                  "type": "float"
                },
                {
                  "name": "TSLA",
                  "rawType": "float64",
                  "type": "float"
                }
              ],
              "ref": "846bcc8f-9373-45ce-9eb6-6ee9ed36f74d",
              "rows": [
                [
                  "0",
                  "2023-10-31 00:00:00",
                  "169.11355590820312",
                  "333.0903625488281",
                  "40.758277893066406",
                  "14.800000190734863",
                  "408.7943420410156",
                  "200.83999633789062"
                ],
                [
                  "1",
                  "2023-11-30 00:00:00",
                  "188.35533142089844",
                  "374.0422668457031",
                  "46.745086669921875",
                  "20.049999237060547",
                  "446.1352233886719",
                  "240.0800018310547"
                ],
                [
                  "2",
                  "2023-12-31 00:00:00",
                  "190.9136505126953",
                  "371.2091064453125",
                  "49.49997329711914",
                  "17.170000076293945",
                  "466.503662109375",
                  "248.47999572753906"
                ],
                [
                  "3",
                  "2024-01-31 00:00:00",
                  "182.85191345214844",
                  "392.472412109375",
                  "61.4996337890625",
                  "16.09000015258789",
                  "473.9334411621094",
                  "187.2899932861328"
                ],
                [
                  "4",
                  "2024-02-29 00:00:00",
                  "179.4612579345703",
                  "409.08123779296875",
                  "79.0768051147461",
                  "25.079999923706055",
                  "498.6664733886719",
                  "201.8800048828125"
                ]
              ],
              "shape": {
                "columns": 7,
                "rows": 5
              }
            },
            "text/html": [
              "<div>\n",
              "<style scoped>\n",
              "    .dataframe tbody tr th:only-of-type {\n",
              "        vertical-align: middle;\n",
              "    }\n",
              "\n",
              "    .dataframe tbody tr th {\n",
              "        vertical-align: top;\n",
              "    }\n",
              "\n",
              "    .dataframe thead th {\n",
              "        text-align: right;\n",
              "    }\n",
              "</style>\n",
              "<table border=\"1\" class=\"dataframe\">\n",
              "  <thead>\n",
              "    <tr style=\"text-align: right;\">\n",
              "      <th>Ticker</th>\n",
              "      <th>date</th>\n",
              "      <th>AAPL</th>\n",
              "      <th>MSFT</th>\n",
              "      <th>NVDA</th>\n",
              "      <th>PLTR</th>\n",
              "      <th>SPY</th>\n",
              "      <th>TSLA</th>\n",
              "    </tr>\n",
              "  </thead>\n",
              "  <tbody>\n",
              "    <tr>\n",
              "      <th>0</th>\n",
              "      <td>2023-10-31</td>\n",
              "      <td>169.113556</td>\n",
              "      <td>333.090363</td>\n",
              "      <td>40.758278</td>\n",
              "      <td>14.800000</td>\n",
              "      <td>408.794342</td>\n",
              "      <td>200.839996</td>\n",
              "    </tr>\n",
              "    <tr>\n",
              "      <th>1</th>\n",
              "      <td>2023-11-30</td>\n",
              "      <td>188.355331</td>\n",
              "      <td>374.042267</td>\n",
              "      <td>46.745087</td>\n",
              "      <td>20.049999</td>\n",
              "      <td>446.135223</td>\n",
              "      <td>240.080002</td>\n",
              "    </tr>\n",
              "    <tr>\n",
              "      <th>2</th>\n",
              "      <td>2023-12-31</td>\n",
              "      <td>190.913651</td>\n",
              "      <td>371.209106</td>\n",
              "      <td>49.499973</td>\n",
              "      <td>17.170000</td>\n",
              "      <td>466.503662</td>\n",
              "      <td>248.479996</td>\n",
              "    </tr>\n",
              "    <tr>\n",
              "      <th>3</th>\n",
              "      <td>2024-01-31</td>\n",
              "      <td>182.851913</td>\n",
              "      <td>392.472412</td>\n",
              "      <td>61.499634</td>\n",
              "      <td>16.090000</td>\n",
              "      <td>473.933441</td>\n",
              "      <td>187.289993</td>\n",
              "    </tr>\n",
              "    <tr>\n",
              "      <th>4</th>\n",
              "      <td>2024-02-29</td>\n",
              "      <td>179.461258</td>\n",
              "      <td>409.081238</td>\n",
              "      <td>79.076805</td>\n",
              "      <td>25.080000</td>\n",
              "      <td>498.666473</td>\n",
              "      <td>201.880005</td>\n",
              "    </tr>\n",
              "  </tbody>\n",
              "</table>\n",
              "</div>"
            ],
            "text/plain": [
              "Ticker       date        AAPL        MSFT       NVDA       PLTR         SPY  \\\n",
              "0      2023-10-31  169.113556  333.090363  40.758278  14.800000  408.794342   \n",
              "1      2023-11-30  188.355331  374.042267  46.745087  20.049999  446.135223   \n",
              "2      2023-12-31  190.913651  371.209106  49.499973  17.170000  466.503662   \n",
              "3      2024-01-31  182.851913  392.472412  61.499634  16.090000  473.933441   \n",
              "4      2024-02-29  179.461258  409.081238  79.076805  25.080000  498.666473   \n",
              "\n",
              "Ticker        TSLA  \n",
              "0       200.839996  \n",
              "1       240.080002  \n",
              "2       248.479996  \n",
              "3       187.289993  \n",
              "4       201.880005  "
            ]
          },
          "metadata": {},
          "output_type": "display_data"
        }
      ],
      "source": [
        "# YOUR CHANGES HERE\n",
        "\n",
        "\n",
        "import yfinance as yf\n",
        "import pandas as pd\n",
        "\n",
        "tickers = [\"AAPL\", \"SPY\", \"TSLA\", \"MSFT\", \"NVDA\", \"PLTR\"]\n",
        "\n",
        "df = yf.download(tickers, period=\"26mo\", interval=\"1d\", auto_adjust=False, progress=False)\n",
        "\n",
        "adj = df[\"Adj Close\"]\n",
        "\n",
        "monthly = adj.resample(\"M\").last()\n",
        "\n",
        "monthly = monthly.tail(24)\n",
        "\n",
        "monthly = monthly.reset_index().rename(columns={\"Date\": \"date\"})\n",
        "\n",
        "monthly.to_csv(\"historical_prices.tsv\", sep=\"\\t\", index=False)\n",
        "\n",
        "print(\"Saved historical_prices.tsv\")\n",
        "display(monthly.head())\n"
      ]
    },
    {
      "cell_type": "markdown",
      "metadata": {
        "id": "2hp0yuXPtT9V"
      },
      "source": [
        "Submit \"historical_prices.tsv\" in Gradescope."
      ]
    },
    {
      "cell_type": "markdown",
      "metadata": {
        "id": "7XdNVWWirUd5"
      },
      "source": [
        "## Part 2: Calculate Historical Asset Returns\n",
        "\n",
        "Calculate the historical asset returns based on the price data that you previously collected."
      ]
    },
    {
      "cell_type": "code",
      "execution_count": 6,
      "metadata": {
        "id": "aL-kVua2xex-"
      },
      "outputs": [
        {
          "name": "stdout",
          "output_type": "stream",
          "text": [
            "Saved:\n",
            " - historical_returns.tsv          (includes first NaN row)\n",
            " - historical_returns_no_nan.tsv   (first row removed)\n"
          ]
        },
        {
          "data": {
            "application/vnd.microsoft.datawrangler.viewer.v0+json": {
              "columns": [
                {
                  "name": "index",
                  "rawType": "int64",
                  "type": "integer"
                },
                {
                  "name": "date",
                  "rawType": "datetime64[ns]",
                  "type": "datetime"
                },
                {
                  "name": "AAPL",
                  "rawType": "float64",
                  "type": "float"
                },
                {
                  "name": "MSFT",
                  "rawType": "float64",
                  "type": "float"
                },
                {
                  "name": "NVDA",
                  "rawType": "float64",
                  "type": "float"
                },
                {
                  "name": "PLTR",
                  "rawType": "float64",
                  "type": "float"
                },
                {
                  "name": "SPY",
                  "rawType": "float64",
                  "type": "float"
                },
                {
                  "name": "TSLA",
                  "rawType": "float64",
                  "type": "float"
                }
              ],
              "ref": "867cca44-32c3-41d9-a92b-d8f35aaf711c",
              "rows": [
                [
                  "0",
                  "2023-10-31 00:00:00",
                  null,
                  null,
                  null,
                  null,
                  null,
                  null
                ],
                [
                  "1",
                  "2023-11-30 00:00:00",
                  "0.11378020767974384",
                  "0.12294532925992963",
                  "0.14688571466543543",
                  "0.35472966072070067",
                  "0.0913439289820448",
                  "0.19537943740621833"
                ],
                [
                  "2",
                  "2023-12-31 00:00:00",
                  "0.01358240869795213",
                  "-0.007574439178445358",
                  "0.05893425006675379",
                  "-0.14364086136438314",
                  "0.04565530281602137",
                  "0.03498831153123483"
                ],
                [
                  "3",
                  "2024-01-31 00:00:00",
                  "-0.04222713796995248",
                  "0.05728120699322092",
                  "0.2424175144482701",
                  "-0.06290040296488841",
                  "0.015926518173811077",
                  "-0.2462572581033916"
                ],
                [
                  "4",
                  "2024-02-29 00:00:00",
                  "-0.018543177665272026",
                  "0.04231845391203004",
                  "0.2858093657268188",
                  "0.5587321122350781",
                  "0.05218672091573828",
                  "0.07790064669600238"
                ]
              ],
              "shape": {
                "columns": 7,
                "rows": 5
              }
            },
            "text/html": [
              "<div>\n",
              "<style scoped>\n",
              "    .dataframe tbody tr th:only-of-type {\n",
              "        vertical-align: middle;\n",
              "    }\n",
              "\n",
              "    .dataframe tbody tr th {\n",
              "        vertical-align: top;\n",
              "    }\n",
              "\n",
              "    .dataframe thead th {\n",
              "        text-align: right;\n",
              "    }\n",
              "</style>\n",
              "<table border=\"1\" class=\"dataframe\">\n",
              "  <thead>\n",
              "    <tr style=\"text-align: right;\">\n",
              "      <th></th>\n",
              "      <th>date</th>\n",
              "      <th>AAPL</th>\n",
              "      <th>MSFT</th>\n",
              "      <th>NVDA</th>\n",
              "      <th>PLTR</th>\n",
              "      <th>SPY</th>\n",
              "      <th>TSLA</th>\n",
              "    </tr>\n",
              "  </thead>\n",
              "  <tbody>\n",
              "    <tr>\n",
              "      <th>0</th>\n",
              "      <td>2023-10-31</td>\n",
              "      <td>NaN</td>\n",
              "      <td>NaN</td>\n",
              "      <td>NaN</td>\n",
              "      <td>NaN</td>\n",
              "      <td>NaN</td>\n",
              "      <td>NaN</td>\n",
              "    </tr>\n",
              "    <tr>\n",
              "      <th>1</th>\n",
              "      <td>2023-11-30</td>\n",
              "      <td>0.113780</td>\n",
              "      <td>0.122945</td>\n",
              "      <td>0.146886</td>\n",
              "      <td>0.354730</td>\n",
              "      <td>0.091344</td>\n",
              "      <td>0.195379</td>\n",
              "    </tr>\n",
              "    <tr>\n",
              "      <th>2</th>\n",
              "      <td>2023-12-31</td>\n",
              "      <td>0.013582</td>\n",
              "      <td>-0.007574</td>\n",
              "      <td>0.058934</td>\n",
              "      <td>-0.143641</td>\n",
              "      <td>0.045655</td>\n",
              "      <td>0.034988</td>\n",
              "    </tr>\n",
              "    <tr>\n",
              "      <th>3</th>\n",
              "      <td>2024-01-31</td>\n",
              "      <td>-0.042227</td>\n",
              "      <td>0.057281</td>\n",
              "      <td>0.242418</td>\n",
              "      <td>-0.062900</td>\n",
              "      <td>0.015927</td>\n",
              "      <td>-0.246257</td>\n",
              "    </tr>\n",
              "    <tr>\n",
              "      <th>4</th>\n",
              "      <td>2024-02-29</td>\n",
              "      <td>-0.018543</td>\n",
              "      <td>0.042318</td>\n",
              "      <td>0.285809</td>\n",
              "      <td>0.558732</td>\n",
              "      <td>0.052187</td>\n",
              "      <td>0.077901</td>\n",
              "    </tr>\n",
              "  </tbody>\n",
              "</table>\n",
              "</div>"
            ],
            "text/plain": [
              "        date      AAPL      MSFT      NVDA      PLTR       SPY      TSLA\n",
              "0 2023-10-31       NaN       NaN       NaN       NaN       NaN       NaN\n",
              "1 2023-11-30  0.113780  0.122945  0.146886  0.354730  0.091344  0.195379\n",
              "2 2023-12-31  0.013582 -0.007574  0.058934 -0.143641  0.045655  0.034988\n",
              "3 2024-01-31 -0.042227  0.057281  0.242418 -0.062900  0.015927 -0.246257\n",
              "4 2024-02-29 -0.018543  0.042318  0.285809  0.558732  0.052187  0.077901"
            ]
          },
          "metadata": {},
          "output_type": "display_data"
        }
      ],
      "source": [
        "# YOUR CHANGES HERE\n",
        "\n",
        "\n",
        "import pandas as pd\n",
        "import numpy as np\n",
        "\n",
        "prices = pd.read_csv(\"historical_prices.tsv\", sep=\"\\t\", parse_dates=[\"date\"])\n",
        "prices = prices.sort_values(\"date\").reset_index(drop=True)\n",
        "\n",
        "prices_idx = prices.set_index(\"date\")\n",
        "\n",
        "simple_rets = prices_idx.pct_change()\n",
        "\n",
        "log_rets = np.log(prices_idx).diff()\n",
        "\n",
        "out_simple = simple_rets.copy()\n",
        "out_simple.index.name = \"date\"\n",
        "out_simple = out_simple.reset_index()\n",
        "out_simple.to_csv(\"historical_returns.tsv\", sep=\"\\t\", index=False)\n",
        "\n",
        "out_simple_no_nan = out_simple.dropna().reset_index(drop=True)\n",
        "out_simple_no_nan.to_csv(\"historical_returns_no_nan.tsv\", sep=\"\\t\", index=False)\n",
        "\n",
        "print(\"Saved:\")\n",
        "print(\" - historical_returns.tsv          (includes first NaN row)\")\n",
        "print(\" - historical_returns_no_nan.tsv   (first row removed)\")\n",
        "\n",
        "display(out_simple.head(5))\n"
      ]
    },
    {
      "cell_type": "markdown",
      "metadata": {
        "id": "OjhEYCWOrIu3"
      },
      "source": [
        "Save the data as a TSV file named \"historical_returns.tsv\" and include a header row with the column names \"date\" and the 6 stock ticker symbols.\n",
        "Each row should have the date at the end of the month and the corresponding *relative* price changes.\n",
        "For example, if the previous price was \\$100 and the new price is \\$110, the return value should be 0.10.\n",
        "There should only be 23 rows of data in this file, since they are computed as the differences of 24 prices."
      ]
    },
    {
      "cell_type": "code",
      "execution_count": 7,
      "metadata": {
        "id": "cN-7q9QvvyKG"
      },
      "outputs": [
        {
          "name": "stdout",
          "output_type": "stream",
          "text": [
            "Saved historical_returns.tsv with shape: (23, 7)\n"
          ]
        },
        {
          "data": {
            "application/vnd.microsoft.datawrangler.viewer.v0+json": {
              "columns": [
                {
                  "name": "index",
                  "rawType": "int64",
                  "type": "integer"
                },
                {
                  "name": "date",
                  "rawType": "datetime64[ns]",
                  "type": "datetime"
                },
                {
                  "name": "AAPL",
                  "rawType": "float64",
                  "type": "float"
                },
                {
                  "name": "MSFT",
                  "rawType": "float64",
                  "type": "float"
                },
                {
                  "name": "NVDA",
                  "rawType": "float64",
                  "type": "float"
                },
                {
                  "name": "PLTR",
                  "rawType": "float64",
                  "type": "float"
                },
                {
                  "name": "SPY",
                  "rawType": "float64",
                  "type": "float"
                },
                {
                  "name": "TSLA",
                  "rawType": "float64",
                  "type": "float"
                }
              ],
              "ref": "db47a599-2358-4fa2-b14c-046e10d56bec",
              "rows": [
                [
                  "0",
                  "2023-11-30 00:00:00",
                  "0.11378020767974384",
                  "0.12294532925992963",
                  "0.14688571466543543",
                  "0.35472966072070067",
                  "0.0913439289820448",
                  "0.19537943740621833"
                ],
                [
                  "1",
                  "2023-12-31 00:00:00",
                  "0.01358240869795213",
                  "-0.007574439178445358",
                  "0.05893425006675379",
                  "-0.14364086136438314",
                  "0.04565530281602137",
                  "0.03498831153123483"
                ],
                [
                  "2",
                  "2024-01-31 00:00:00",
                  "-0.04222713796995248",
                  "0.05728120699322092",
                  "0.2424175144482701",
                  "-0.06290040296488841",
                  "0.015926518173811077",
                  "-0.2462572581033916"
                ],
                [
                  "3",
                  "2024-02-29 00:00:00",
                  "-0.018543177665272026",
                  "0.04231845391203004",
                  "0.2858093657268188",
                  "0.5587321122350781",
                  "0.05218672091573828",
                  "0.07790064669600238"
                ],
                [
                  "4",
                  "2024-03-31 00:00:00",
                  "-0.051286296018262845",
                  "0.01711621546174502",
                  "0.14218126718865998",
                  "-0.08253587325044653",
                  "0.032701902773773606",
                  "-0.12923524353897475"
                ]
              ],
              "shape": {
                "columns": 7,
                "rows": 5
              }
            },
            "text/html": [
              "<div>\n",
              "<style scoped>\n",
              "    .dataframe tbody tr th:only-of-type {\n",
              "        vertical-align: middle;\n",
              "    }\n",
              "\n",
              "    .dataframe tbody tr th {\n",
              "        vertical-align: top;\n",
              "    }\n",
              "\n",
              "    .dataframe thead th {\n",
              "        text-align: right;\n",
              "    }\n",
              "</style>\n",
              "<table border=\"1\" class=\"dataframe\">\n",
              "  <thead>\n",
              "    <tr style=\"text-align: right;\">\n",
              "      <th></th>\n",
              "      <th>date</th>\n",
              "      <th>AAPL</th>\n",
              "      <th>MSFT</th>\n",
              "      <th>NVDA</th>\n",
              "      <th>PLTR</th>\n",
              "      <th>SPY</th>\n",
              "      <th>TSLA</th>\n",
              "    </tr>\n",
              "  </thead>\n",
              "  <tbody>\n",
              "    <tr>\n",
              "      <th>0</th>\n",
              "      <td>2023-11-30</td>\n",
              "      <td>0.113780</td>\n",
              "      <td>0.122945</td>\n",
              "      <td>0.146886</td>\n",
              "      <td>0.354730</td>\n",
              "      <td>0.091344</td>\n",
              "      <td>0.195379</td>\n",
              "    </tr>\n",
              "    <tr>\n",
              "      <th>1</th>\n",
              "      <td>2023-12-31</td>\n",
              "      <td>0.013582</td>\n",
              "      <td>-0.007574</td>\n",
              "      <td>0.058934</td>\n",
              "      <td>-0.143641</td>\n",
              "      <td>0.045655</td>\n",
              "      <td>0.034988</td>\n",
              "    </tr>\n",
              "    <tr>\n",
              "      <th>2</th>\n",
              "      <td>2024-01-31</td>\n",
              "      <td>-0.042227</td>\n",
              "      <td>0.057281</td>\n",
              "      <td>0.242418</td>\n",
              "      <td>-0.062900</td>\n",
              "      <td>0.015927</td>\n",
              "      <td>-0.246257</td>\n",
              "    </tr>\n",
              "    <tr>\n",
              "      <th>3</th>\n",
              "      <td>2024-02-29</td>\n",
              "      <td>-0.018543</td>\n",
              "      <td>0.042318</td>\n",
              "      <td>0.285809</td>\n",
              "      <td>0.558732</td>\n",
              "      <td>0.052187</td>\n",
              "      <td>0.077901</td>\n",
              "    </tr>\n",
              "    <tr>\n",
              "      <th>4</th>\n",
              "      <td>2024-03-31</td>\n",
              "      <td>-0.051286</td>\n",
              "      <td>0.017116</td>\n",
              "      <td>0.142181</td>\n",
              "      <td>-0.082536</td>\n",
              "      <td>0.032702</td>\n",
              "      <td>-0.129235</td>\n",
              "    </tr>\n",
              "  </tbody>\n",
              "</table>\n",
              "</div>"
            ],
            "text/plain": [
              "        date      AAPL      MSFT      NVDA      PLTR       SPY      TSLA\n",
              "0 2023-11-30  0.113780  0.122945  0.146886  0.354730  0.091344  0.195379\n",
              "1 2023-12-31  0.013582 -0.007574  0.058934 -0.143641  0.045655  0.034988\n",
              "2 2024-01-31 -0.042227  0.057281  0.242418 -0.062900  0.015927 -0.246257\n",
              "3 2024-02-29 -0.018543  0.042318  0.285809  0.558732  0.052187  0.077901\n",
              "4 2024-03-31 -0.051286  0.017116  0.142181 -0.082536  0.032702 -0.129235"
            ]
          },
          "metadata": {},
          "output_type": "display_data"
        }
      ],
      "source": [
        "# YOUR CHANGES HERE\n",
        "\n",
        "\n",
        "import pandas as pd\n",
        "\n",
        "prices = pd.read_csv(\"historical_prices.tsv\", sep=\"\\t\", parse_dates=[\"date\"])\n",
        "prices = prices.sort_values(\"date\").reset_index(drop=True)\n",
        "\n",
        "prices_idx = prices.set_index(\"date\")\n",
        "\n",
        "returns = prices_idx.pct_change()\n",
        "\n",
        "returns = returns.dropna()\n",
        "\n",
        "returns.index.name = \"date\"\n",
        "returns_out = returns.reset_index()\n",
        "\n",
        "returns_out.to_csv(\"historical_returns.tsv\", sep=\"\\t\", index=False)\n",
        "\n",
        "print(\"Saved historical_returns.tsv with shape:\", returns_out.shape)\n",
        "display(returns_out.head())\n"
      ]
    },
    {
      "cell_type": "markdown",
      "metadata": {
        "id": "vyBtnCTUtfRq"
      },
      "source": [
        "Submit \"historical_returns.tsv\" in Gradescope."
      ]
    },
    {
      "cell_type": "markdown",
      "metadata": {
        "id": "MoCkf4ouV9IA"
      },
      "source": [
        "## Part 3: Estimate Returns\n",
        "\n",
        "Estimate the expected returns for each asset using the previously calculated return data.\n",
        "Just compute the average (mean) return for each asset over your data set; do not use other estimators that have been mentioned.\n",
        "This will serve as your estimate of expected return for each asset."
      ]
    },
    {
      "cell_type": "code",
      "execution_count": 8,
      "metadata": {
        "id": "N2iDEhSRxd2n"
      },
      "outputs": [
        {
          "name": "stdout",
          "output_type": "stream",
          "text": [
            "Estimated expected returns (mean monthly returns):\n"
          ]
        },
        {
          "data": {
            "application/vnd.microsoft.datawrangler.viewer.v0+json": {
              "columns": [
                {
                  "name": "index",
                  "rawType": "int64",
                  "type": "integer"
                },
                {
                  "name": "Ticker",
                  "rawType": "object",
                  "type": "string"
                },
                {
                  "name": "ExpectedReturn",
                  "rawType": "float64",
                  "type": "float"
                }
              ],
              "ref": "14fb5c94-deb6-4aff-9923-ee21ee16b80f",
              "rows": [
                [
                  "0",
                  "AAPL",
                  "0.01696781632100377"
                ],
                [
                  "1",
                  "MSFT",
                  "0.019235897936117404"
                ],
                [
                  "2",
                  "NVDA",
                  "0.06956661552831095"
                ],
                [
                  "3",
                  "PLTR",
                  "0.12172875022089343"
                ],
                [
                  "4",
                  "SPY",
                  "0.020757964668422"
                ],
                [
                  "5",
                  "TSLA",
                  "0.036103100463761584"
                ]
              ],
              "shape": {
                "columns": 2,
                "rows": 6
              }
            },
            "text/html": [
              "<div>\n",
              "<style scoped>\n",
              "    .dataframe tbody tr th:only-of-type {\n",
              "        vertical-align: middle;\n",
              "    }\n",
              "\n",
              "    .dataframe tbody tr th {\n",
              "        vertical-align: top;\n",
              "    }\n",
              "\n",
              "    .dataframe thead th {\n",
              "        text-align: right;\n",
              "    }\n",
              "</style>\n",
              "<table border=\"1\" class=\"dataframe\">\n",
              "  <thead>\n",
              "    <tr style=\"text-align: right;\">\n",
              "      <th></th>\n",
              "      <th>Ticker</th>\n",
              "      <th>ExpectedReturn</th>\n",
              "    </tr>\n",
              "  </thead>\n",
              "  <tbody>\n",
              "    <tr>\n",
              "      <th>0</th>\n",
              "      <td>AAPL</td>\n",
              "      <td>0.016968</td>\n",
              "    </tr>\n",
              "    <tr>\n",
              "      <th>1</th>\n",
              "      <td>MSFT</td>\n",
              "      <td>0.019236</td>\n",
              "    </tr>\n",
              "    <tr>\n",
              "      <th>2</th>\n",
              "      <td>NVDA</td>\n",
              "      <td>0.069567</td>\n",
              "    </tr>\n",
              "    <tr>\n",
              "      <th>3</th>\n",
              "      <td>PLTR</td>\n",
              "      <td>0.121729</td>\n",
              "    </tr>\n",
              "    <tr>\n",
              "      <th>4</th>\n",
              "      <td>SPY</td>\n",
              "      <td>0.020758</td>\n",
              "    </tr>\n",
              "    <tr>\n",
              "      <th>5</th>\n",
              "      <td>TSLA</td>\n",
              "      <td>0.036103</td>\n",
              "    </tr>\n",
              "  </tbody>\n",
              "</table>\n",
              "</div>"
            ],
            "text/plain": [
              "  Ticker  ExpectedReturn\n",
              "0   AAPL        0.016968\n",
              "1   MSFT        0.019236\n",
              "2   NVDA        0.069567\n",
              "3   PLTR        0.121729\n",
              "4    SPY        0.020758\n",
              "5   TSLA        0.036103"
            ]
          },
          "metadata": {},
          "output_type": "display_data"
        }
      ],
      "source": [
        "# YOUR CHANGES HERE\n",
        "\n",
        "\n",
        "import pandas as pd\n",
        "\n",
        "returns = pd.read_csv(\"historical_returns.tsv\", sep=\"\\t\", parse_dates=[\"date\"])\n",
        "\n",
        "returns_only = returns.drop(columns=[\"date\"])\n",
        "\n",
        "expected_returns = returns_only.mean()\n",
        "\n",
        "expected_df = expected_returns.reset_index()\n",
        "expected_df.columns = [\"Ticker\", \"ExpectedReturn\"]\n",
        "\n",
        "print(\"Estimated expected returns (mean monthly returns):\")\n",
        "display(expected_df)\n"
      ]
    },
    {
      "cell_type": "markdown",
      "metadata": {
        "id": "e5YTEwoarM2M"
      },
      "source": [
        "Save the estimated returns in a TSV file named \"estimated_returns.tsv\" and include a header row with the column names \"asset\" and \"estimated_return\"."
      ]
    },
    {
      "cell_type": "code",
      "execution_count": 9,
      "metadata": {
        "id": "At71YDpwvwUw"
      },
      "outputs": [
        {
          "name": "stdout",
          "output_type": "stream",
          "text": [
            "Saved estimated_returns.tsv\n"
          ]
        },
        {
          "data": {
            "application/vnd.microsoft.datawrangler.viewer.v0+json": {
              "columns": [
                {
                  "name": "index",
                  "rawType": "int64",
                  "type": "integer"
                },
                {
                  "name": "asset",
                  "rawType": "object",
                  "type": "string"
                },
                {
                  "name": "estimated_return",
                  "rawType": "float64",
                  "type": "float"
                }
              ],
              "ref": "cadaa10f-2569-4bc3-9630-ff579e67ddb1",
              "rows": [
                [
                  "0",
                  "AAPL",
                  "0.01696781632100377"
                ],
                [
                  "1",
                  "MSFT",
                  "0.019235897936117404"
                ],
                [
                  "2",
                  "NVDA",
                  "0.06956661552831095"
                ],
                [
                  "3",
                  "PLTR",
                  "0.12172875022089343"
                ],
                [
                  "4",
                  "SPY",
                  "0.020757964668422"
                ],
                [
                  "5",
                  "TSLA",
                  "0.036103100463761584"
                ]
              ],
              "shape": {
                "columns": 2,
                "rows": 6
              }
            },
            "text/html": [
              "<div>\n",
              "<style scoped>\n",
              "    .dataframe tbody tr th:only-of-type {\n",
              "        vertical-align: middle;\n",
              "    }\n",
              "\n",
              "    .dataframe tbody tr th {\n",
              "        vertical-align: top;\n",
              "    }\n",
              "\n",
              "    .dataframe thead th {\n",
              "        text-align: right;\n",
              "    }\n",
              "</style>\n",
              "<table border=\"1\" class=\"dataframe\">\n",
              "  <thead>\n",
              "    <tr style=\"text-align: right;\">\n",
              "      <th></th>\n",
              "      <th>asset</th>\n",
              "      <th>estimated_return</th>\n",
              "    </tr>\n",
              "  </thead>\n",
              "  <tbody>\n",
              "    <tr>\n",
              "      <th>0</th>\n",
              "      <td>AAPL</td>\n",
              "      <td>0.016968</td>\n",
              "    </tr>\n",
              "    <tr>\n",
              "      <th>1</th>\n",
              "      <td>MSFT</td>\n",
              "      <td>0.019236</td>\n",
              "    </tr>\n",
              "    <tr>\n",
              "      <th>2</th>\n",
              "      <td>NVDA</td>\n",
              "      <td>0.069567</td>\n",
              "    </tr>\n",
              "    <tr>\n",
              "      <th>3</th>\n",
              "      <td>PLTR</td>\n",
              "      <td>0.121729</td>\n",
              "    </tr>\n",
              "    <tr>\n",
              "      <th>4</th>\n",
              "      <td>SPY</td>\n",
              "      <td>0.020758</td>\n",
              "    </tr>\n",
              "    <tr>\n",
              "      <th>5</th>\n",
              "      <td>TSLA</td>\n",
              "      <td>0.036103</td>\n",
              "    </tr>\n",
              "  </tbody>\n",
              "</table>\n",
              "</div>"
            ],
            "text/plain": [
              "  asset  estimated_return\n",
              "0  AAPL          0.016968\n",
              "1  MSFT          0.019236\n",
              "2  NVDA          0.069567\n",
              "3  PLTR          0.121729\n",
              "4   SPY          0.020758\n",
              "5  TSLA          0.036103"
            ]
          },
          "metadata": {},
          "output_type": "display_data"
        }
      ],
      "source": [
        "# YOUR CHANGES HERE\n",
        "\n",
        "\n",
        "import pandas as pd\n",
        "\n",
        "returns = pd.read_csv(\"historical_returns.tsv\", sep=\"\\t\", parse_dates=[\"date\"])\n",
        "\n",
        "returns_only = returns.drop(columns=[\"date\"])\n",
        "\n",
        "expected_returns = returns_only.mean()\n",
        "\n",
        "expected_df = expected_returns.reset_index()\n",
        "expected_df.columns = [\"asset\", \"estimated_return\"]\n",
        "\n",
        "expected_df.to_csv(\"estimated_returns.tsv\", sep=\"\\t\", index=False)\n",
        "\n",
        "print(\"Saved estimated_returns.tsv\")\n",
        "display(expected_df)\n"
      ]
    },
    {
      "cell_type": "markdown",
      "metadata": {
        "id": "cjfnF-2Wtj6r"
      },
      "source": [
        "Submit \"estimated_returns.tsv\" in Gradescope."
      ]
    },
    {
      "cell_type": "markdown",
      "metadata": {
        "id": "VTuIqrkAWXVL"
      },
      "source": [
        "## Part 4: Estimate Risk\n",
        "\n",
        "Estimate the covariance matrix for the asset returns to understand how the assets move together."
      ]
    },
    {
      "cell_type": "code",
      "execution_count": 10,
      "metadata": {
        "id": "RFZfIkTMxcv7"
      },
      "outputs": [
        {
          "name": "stdout",
          "output_type": "stream",
          "text": [
            "Covariance matrix of monthly returns:\n"
          ]
        },
        {
          "data": {
            "application/vnd.microsoft.datawrangler.viewer.v0+json": {
              "columns": [
                {
                  "name": "index",
                  "rawType": "object",
                  "type": "string"
                },
                {
                  "name": "AAPL",
                  "rawType": "float64",
                  "type": "float"
                },
                {
                  "name": "MSFT",
                  "rawType": "float64",
                  "type": "float"
                },
                {
                  "name": "NVDA",
                  "rawType": "float64",
                  "type": "float"
                },
                {
                  "name": "PLTR",
                  "rawType": "float64",
                  "type": "float"
                },
                {
                  "name": "SPY",
                  "rawType": "float64",
                  "type": "float"
                },
                {
                  "name": "TSLA",
                  "rawType": "float64",
                  "type": "float"
                }
              ],
              "ref": "4cddf1f3-7657-4c3b-bf81-ddd5e5627a2b",
              "rows": [
                [
                  "AAPL",
                  "0.0036228139237012556",
                  "0.0003984552183430344",
                  "0.0007677405268325197",
                  "0.0010240429044887315",
                  "0.0007839649394939265",
                  "0.003074800723586168"
                ],
                [
                  "MSFT",
                  "0.0003984552183430344",
                  "0.004022300577925238",
                  "0.0054324016340792005",
                  "0.004539592166251692",
                  "0.00161605693761451",
                  "0.0026899303333451892"
                ],
                [
                  "NVDA",
                  "0.0007677405268325197",
                  "0.0054324016340792005",
                  "0.014287356250200067",
                  "0.003919572360662824",
                  "0.002673028843853129",
                  "-0.001848478986425455"
                ],
                [
                  "PLTR",
                  "0.0010240429044887315",
                  "0.004539592166251692",
                  "0.003919572360662824",
                  "0.03838981418610204",
                  "0.002387350782841951",
                  "0.017408430173692133"
                ],
                [
                  "SPY",
                  "0.0007839649394939265",
                  "0.00161605693761451",
                  "0.002673028843853129",
                  "0.002387350782841951",
                  "0.0012252940156358206",
                  "0.0019709252946674086"
                ],
                [
                  "TSLA",
                  "0.003074800723586168",
                  "0.0026899303333451892",
                  "-0.001848478986425455",
                  "0.017408430173692133",
                  "0.0019709252946674086",
                  "0.02435781047414409"
                ]
              ],
              "shape": {
                "columns": 6,
                "rows": 6
              }
            },
            "text/html": [
              "<div>\n",
              "<style scoped>\n",
              "    .dataframe tbody tr th:only-of-type {\n",
              "        vertical-align: middle;\n",
              "    }\n",
              "\n",
              "    .dataframe tbody tr th {\n",
              "        vertical-align: top;\n",
              "    }\n",
              "\n",
              "    .dataframe thead th {\n",
              "        text-align: right;\n",
              "    }\n",
              "</style>\n",
              "<table border=\"1\" class=\"dataframe\">\n",
              "  <thead>\n",
              "    <tr style=\"text-align: right;\">\n",
              "      <th></th>\n",
              "      <th>AAPL</th>\n",
              "      <th>MSFT</th>\n",
              "      <th>NVDA</th>\n",
              "      <th>PLTR</th>\n",
              "      <th>SPY</th>\n",
              "      <th>TSLA</th>\n",
              "    </tr>\n",
              "  </thead>\n",
              "  <tbody>\n",
              "    <tr>\n",
              "      <th>AAPL</th>\n",
              "      <td>0.003623</td>\n",
              "      <td>0.000398</td>\n",
              "      <td>0.000768</td>\n",
              "      <td>0.001024</td>\n",
              "      <td>0.000784</td>\n",
              "      <td>0.003075</td>\n",
              "    </tr>\n",
              "    <tr>\n",
              "      <th>MSFT</th>\n",
              "      <td>0.000398</td>\n",
              "      <td>0.004022</td>\n",
              "      <td>0.005432</td>\n",
              "      <td>0.004540</td>\n",
              "      <td>0.001616</td>\n",
              "      <td>0.002690</td>\n",
              "    </tr>\n",
              "    <tr>\n",
              "      <th>NVDA</th>\n",
              "      <td>0.000768</td>\n",
              "      <td>0.005432</td>\n",
              "      <td>0.014287</td>\n",
              "      <td>0.003920</td>\n",
              "      <td>0.002673</td>\n",
              "      <td>-0.001848</td>\n",
              "    </tr>\n",
              "    <tr>\n",
              "      <th>PLTR</th>\n",
              "      <td>0.001024</td>\n",
              "      <td>0.004540</td>\n",
              "      <td>0.003920</td>\n",
              "      <td>0.038390</td>\n",
              "      <td>0.002387</td>\n",
              "      <td>0.017408</td>\n",
              "    </tr>\n",
              "    <tr>\n",
              "      <th>SPY</th>\n",
              "      <td>0.000784</td>\n",
              "      <td>0.001616</td>\n",
              "      <td>0.002673</td>\n",
              "      <td>0.002387</td>\n",
              "      <td>0.001225</td>\n",
              "      <td>0.001971</td>\n",
              "    </tr>\n",
              "    <tr>\n",
              "      <th>TSLA</th>\n",
              "      <td>0.003075</td>\n",
              "      <td>0.002690</td>\n",
              "      <td>-0.001848</td>\n",
              "      <td>0.017408</td>\n",
              "      <td>0.001971</td>\n",
              "      <td>0.024358</td>\n",
              "    </tr>\n",
              "  </tbody>\n",
              "</table>\n",
              "</div>"
            ],
            "text/plain": [
              "          AAPL      MSFT      NVDA      PLTR       SPY      TSLA\n",
              "AAPL  0.003623  0.000398  0.000768  0.001024  0.000784  0.003075\n",
              "MSFT  0.000398  0.004022  0.005432  0.004540  0.001616  0.002690\n",
              "NVDA  0.000768  0.005432  0.014287  0.003920  0.002673 -0.001848\n",
              "PLTR  0.001024  0.004540  0.003920  0.038390  0.002387  0.017408\n",
              "SPY   0.000784  0.001616  0.002673  0.002387  0.001225  0.001971\n",
              "TSLA  0.003075  0.002690 -0.001848  0.017408  0.001971  0.024358"
            ]
          },
          "metadata": {},
          "output_type": "display_data"
        },
        {
          "name": "stdout",
          "output_type": "stream",
          "text": [
            "Saved covariance_matrix.tsv\n"
          ]
        }
      ],
      "source": [
        "# YOUR CHANGES HERE\n",
        "\n",
        "\n",
        "import pandas as pd\n",
        "\n",
        "returns = pd.read_csv(\"historical_returns.tsv\", sep=\"\\t\", parse_dates=[\"date\"])\n",
        "\n",
        "returns_only = returns.drop(columns=[\"date\"])\n",
        "\n",
        "cov_matrix = returns_only.cov()\n",
        "\n",
        "print(\"Covariance matrix of monthly returns:\")\n",
        "display(cov_matrix)\n",
        "\n",
        "cov_matrix.to_csv(\"covariance_matrix.tsv\", sep=\"\\t\")\n",
        "print(\"Saved covariance_matrix.tsv\")\n"
      ]
    },
    {
      "cell_type": "markdown",
      "metadata": {
        "id": "sOmn4s_yr5qn"
      },
      "source": [
        "Save the estimated covariances to a TSV file named \"estimated_covariance.tsv\".\n",
        "The header row should have a blank column name followed by the names of the assets.\n",
        "Each data row should start with the name of an asset for that row, and be followed by the individual covariances corresponding to that row and column's assets.\n",
        "(This is the format of pandas's `to_csv` method with `sep=\"\\t\"` when used on a covariance matrix as computed in the examples.)"
      ]
    },
    {
      "cell_type": "code",
      "execution_count": 11,
      "metadata": {
        "id": "Te-NPQxSvuXm"
      },
      "outputs": [
        {
          "name": "stdout",
          "output_type": "stream",
          "text": [
            "Saved estimated_covariance.tsv with shape: (6, 6)\n"
          ]
        },
        {
          "data": {
            "application/vnd.microsoft.datawrangler.viewer.v0+json": {
              "columns": [
                {
                  "name": "index",
                  "rawType": "object",
                  "type": "string"
                },
                {
                  "name": "AAPL",
                  "rawType": "float64",
                  "type": "float"
                },
                {
                  "name": "MSFT",
                  "rawType": "float64",
                  "type": "float"
                },
                {
                  "name": "NVDA",
                  "rawType": "float64",
                  "type": "float"
                },
                {
                  "name": "PLTR",
                  "rawType": "float64",
                  "type": "float"
                },
                {
                  "name": "SPY",
                  "rawType": "float64",
                  "type": "float"
                },
                {
                  "name": "TSLA",
                  "rawType": "float64",
                  "type": "float"
                }
              ],
              "ref": "795712b7-babf-47c5-8dfe-bcc4704baea1",
              "rows": [
                [
                  "AAPL",
                  "0.0036228139237012556",
                  "0.0003984552183430344",
                  "0.0007677405268325197",
                  "0.0010240429044887315",
                  "0.0007839649394939265",
                  "0.003074800723586168"
                ],
                [
                  "MSFT",
                  "0.0003984552183430344",
                  "0.004022300577925238",
                  "0.0054324016340792005",
                  "0.004539592166251692",
                  "0.00161605693761451",
                  "0.0026899303333451892"
                ],
                [
                  "NVDA",
                  "0.0007677405268325197",
                  "0.0054324016340792005",
                  "0.014287356250200067",
                  "0.003919572360662824",
                  "0.002673028843853129",
                  "-0.001848478986425455"
                ],
                [
                  "PLTR",
                  "0.0010240429044887315",
                  "0.004539592166251692",
                  "0.003919572360662824",
                  "0.03838981418610204",
                  "0.002387350782841951",
                  "0.017408430173692133"
                ],
                [
                  "SPY",
                  "0.0007839649394939265",
                  "0.00161605693761451",
                  "0.002673028843853129",
                  "0.002387350782841951",
                  "0.0012252940156358206",
                  "0.0019709252946674086"
                ],
                [
                  "TSLA",
                  "0.003074800723586168",
                  "0.0026899303333451892",
                  "-0.001848478986425455",
                  "0.017408430173692133",
                  "0.0019709252946674086",
                  "0.02435781047414409"
                ]
              ],
              "shape": {
                "columns": 6,
                "rows": 6
              }
            },
            "text/html": [
              "<div>\n",
              "<style scoped>\n",
              "    .dataframe tbody tr th:only-of-type {\n",
              "        vertical-align: middle;\n",
              "    }\n",
              "\n",
              "    .dataframe tbody tr th {\n",
              "        vertical-align: top;\n",
              "    }\n",
              "\n",
              "    .dataframe thead th {\n",
              "        text-align: right;\n",
              "    }\n",
              "</style>\n",
              "<table border=\"1\" class=\"dataframe\">\n",
              "  <thead>\n",
              "    <tr style=\"text-align: right;\">\n",
              "      <th></th>\n",
              "      <th>AAPL</th>\n",
              "      <th>MSFT</th>\n",
              "      <th>NVDA</th>\n",
              "      <th>PLTR</th>\n",
              "      <th>SPY</th>\n",
              "      <th>TSLA</th>\n",
              "    </tr>\n",
              "  </thead>\n",
              "  <tbody>\n",
              "    <tr>\n",
              "      <th>AAPL</th>\n",
              "      <td>0.003623</td>\n",
              "      <td>0.000398</td>\n",
              "      <td>0.000768</td>\n",
              "      <td>0.001024</td>\n",
              "      <td>0.000784</td>\n",
              "      <td>0.003075</td>\n",
              "    </tr>\n",
              "    <tr>\n",
              "      <th>MSFT</th>\n",
              "      <td>0.000398</td>\n",
              "      <td>0.004022</td>\n",
              "      <td>0.005432</td>\n",
              "      <td>0.004540</td>\n",
              "      <td>0.001616</td>\n",
              "      <td>0.002690</td>\n",
              "    </tr>\n",
              "    <tr>\n",
              "      <th>NVDA</th>\n",
              "      <td>0.000768</td>\n",
              "      <td>0.005432</td>\n",
              "      <td>0.014287</td>\n",
              "      <td>0.003920</td>\n",
              "      <td>0.002673</td>\n",
              "      <td>-0.001848</td>\n",
              "    </tr>\n",
              "    <tr>\n",
              "      <th>PLTR</th>\n",
              "      <td>0.001024</td>\n",
              "      <td>0.004540</td>\n",
              "      <td>0.003920</td>\n",
              "      <td>0.038390</td>\n",
              "      <td>0.002387</td>\n",
              "      <td>0.017408</td>\n",
              "    </tr>\n",
              "    <tr>\n",
              "      <th>SPY</th>\n",
              "      <td>0.000784</td>\n",
              "      <td>0.001616</td>\n",
              "      <td>0.002673</td>\n",
              "      <td>0.002387</td>\n",
              "      <td>0.001225</td>\n",
              "      <td>0.001971</td>\n",
              "    </tr>\n",
              "    <tr>\n",
              "      <th>TSLA</th>\n",
              "      <td>0.003075</td>\n",
              "      <td>0.002690</td>\n",
              "      <td>-0.001848</td>\n",
              "      <td>0.017408</td>\n",
              "      <td>0.001971</td>\n",
              "      <td>0.024358</td>\n",
              "    </tr>\n",
              "  </tbody>\n",
              "</table>\n",
              "</div>"
            ],
            "text/plain": [
              "          AAPL      MSFT      NVDA      PLTR       SPY      TSLA\n",
              "AAPL  0.003623  0.000398  0.000768  0.001024  0.000784  0.003075\n",
              "MSFT  0.000398  0.004022  0.005432  0.004540  0.001616  0.002690\n",
              "NVDA  0.000768  0.005432  0.014287  0.003920  0.002673 -0.001848\n",
              "PLTR  0.001024  0.004540  0.003920  0.038390  0.002387  0.017408\n",
              "SPY   0.000784  0.001616  0.002673  0.002387  0.001225  0.001971\n",
              "TSLA  0.003075  0.002690 -0.001848  0.017408  0.001971  0.024358"
            ]
          },
          "metadata": {},
          "output_type": "display_data"
        }
      ],
      "source": [
        "# YOUR CHANGES HERE\n",
        "\n",
        "\n",
        "import pandas as pd\n",
        "\n",
        "returns = pd.read_csv(\"historical_returns.tsv\", sep=\"\\t\", parse_dates=[\"date\"])\n",
        "\n",
        "returns_only = returns.drop(columns=[\"date\"])\n",
        "\n",
        "cov_matrix = returns_only.cov()\n",
        "\n",
        "cov_matrix.to_csv(\"estimated_covariance.tsv\", sep=\"\\t\")\n",
        "\n",
        "print(\"Saved estimated_covariance.tsv with shape:\", cov_matrix.shape)\n",
        "display(cov_matrix)\n"
      ]
    },
    {
      "cell_type": "markdown",
      "metadata": {
        "id": "lS9vek0btoK6"
      },
      "source": [
        "Submit \"estimated_covariance.tsv\" in Gradescope."
      ]
    },
    {
      "cell_type": "markdown",
      "metadata": {
        "id": "C8rC5Eo3sEme"
      },
      "source": [
        "## Part 5: Construct the Maximum Return Portfolio\n",
        "\n",
        "Compute the maximum return portfolio based on your previously estimated risks and returns."
      ]
    },
    {
      "cell_type": "code",
      "execution_count": 12,
      "metadata": {
        "id": "8LW0KKm-xb2I"
      },
      "outputs": [
        {
          "name": "stdout",
          "output_type": "stream",
          "text": [
            "Maximum return portfolio invests fully in: PLTR\n"
          ]
        },
        {
          "data": {
            "application/vnd.microsoft.datawrangler.viewer.v0+json": {
              "columns": [
                {
                  "name": "index",
                  "rawType": "int64",
                  "type": "integer"
                },
                {
                  "name": "asset",
                  "rawType": "object",
                  "type": "string"
                },
                {
                  "name": "weight",
                  "rawType": "float64",
                  "type": "float"
                }
              ],
              "ref": "de03e688-aa13-4c94-a7c5-480c4cb93839",
              "rows": [
                [
                  "0",
                  "AAPL",
                  "0.0"
                ],
                [
                  "1",
                  "MSFT",
                  "0.0"
                ],
                [
                  "2",
                  "NVDA",
                  "0.0"
                ],
                [
                  "3",
                  "PLTR",
                  "1.0"
                ],
                [
                  "4",
                  "SPY",
                  "0.0"
                ],
                [
                  "5",
                  "TSLA",
                  "0.0"
                ]
              ],
              "shape": {
                "columns": 2,
                "rows": 6
              }
            },
            "text/html": [
              "<div>\n",
              "<style scoped>\n",
              "    .dataframe tbody tr th:only-of-type {\n",
              "        vertical-align: middle;\n",
              "    }\n",
              "\n",
              "    .dataframe tbody tr th {\n",
              "        vertical-align: top;\n",
              "    }\n",
              "\n",
              "    .dataframe thead th {\n",
              "        text-align: right;\n",
              "    }\n",
              "</style>\n",
              "<table border=\"1\" class=\"dataframe\">\n",
              "  <thead>\n",
              "    <tr style=\"text-align: right;\">\n",
              "      <th></th>\n",
              "      <th>asset</th>\n",
              "      <th>weight</th>\n",
              "    </tr>\n",
              "  </thead>\n",
              "  <tbody>\n",
              "    <tr>\n",
              "      <th>0</th>\n",
              "      <td>AAPL</td>\n",
              "      <td>0.0</td>\n",
              "    </tr>\n",
              "    <tr>\n",
              "      <th>1</th>\n",
              "      <td>MSFT</td>\n",
              "      <td>0.0</td>\n",
              "    </tr>\n",
              "    <tr>\n",
              "      <th>2</th>\n",
              "      <td>NVDA</td>\n",
              "      <td>0.0</td>\n",
              "    </tr>\n",
              "    <tr>\n",
              "      <th>3</th>\n",
              "      <td>PLTR</td>\n",
              "      <td>1.0</td>\n",
              "    </tr>\n",
              "    <tr>\n",
              "      <th>4</th>\n",
              "      <td>SPY</td>\n",
              "      <td>0.0</td>\n",
              "    </tr>\n",
              "    <tr>\n",
              "      <th>5</th>\n",
              "      <td>TSLA</td>\n",
              "      <td>0.0</td>\n",
              "    </tr>\n",
              "  </tbody>\n",
              "</table>\n",
              "</div>"
            ],
            "text/plain": [
              "  asset  weight\n",
              "0  AAPL     0.0\n",
              "1  MSFT     0.0\n",
              "2  NVDA     0.0\n",
              "3  PLTR     1.0\n",
              "4   SPY     0.0\n",
              "5  TSLA     0.0"
            ]
          },
          "metadata": {},
          "output_type": "display_data"
        }
      ],
      "source": [
        "# YOUR CHANGES HERE\n",
        "\n",
        "\n",
        "import pandas as pd\n",
        "\n",
        "expected = pd.read_csv(\"estimated_returns.tsv\", sep=\"\\t\")\n",
        "\n",
        "best_asset = expected.loc[expected[\"estimated_return\"].idxmax(), \"asset\"]\n",
        "\n",
        "weights = pd.DataFrame({\n",
        "    \"asset\": expected[\"asset\"],\n",
        "    \"weight\": [1.0 if a == best_asset else 0.0 for a in expected[\"asset\"]]\n",
        "})\n",
        "\n",
        "weights.to_csv(\"max_return_portfolio.tsv\", sep=\"\\t\", index=False)\n",
        "\n",
        "print(\"Maximum return portfolio invests fully in:\", best_asset)\n",
        "display(weights)\n"
      ]
    },
    {
      "cell_type": "markdown",
      "metadata": {
        "id": "jjPOxui5sLTD"
      },
      "source": [
        "Save the maximum return portfolio in a TSV file named \"maximum_return.tsv\".\n",
        "The header row should have two columns, \"asset\" and \"allocation\".\n",
        "The allocation values should sum up to one.\n"
      ]
    },
    {
      "cell_type": "code",
      "execution_count": 13,
      "metadata": {
        "id": "xLl_j8z1vtiT"
      },
      "outputs": [
        {
          "name": "stdout",
          "output_type": "stream",
          "text": [
            "Saved maximum_return.tsv (all-in on: PLTR )\n"
          ]
        },
        {
          "data": {
            "application/vnd.microsoft.datawrangler.viewer.v0+json": {
              "columns": [
                {
                  "name": "index",
                  "rawType": "int64",
                  "type": "integer"
                },
                {
                  "name": "asset",
                  "rawType": "object",
                  "type": "string"
                },
                {
                  "name": "allocation",
                  "rawType": "float64",
                  "type": "float"
                }
              ],
              "ref": "3cbf9c08-971e-4712-83d6-ec1ff3715e55",
              "rows": [
                [
                  "0",
                  "AAPL",
                  "0.0"
                ],
                [
                  "1",
                  "MSFT",
                  "0.0"
                ],
                [
                  "2",
                  "NVDA",
                  "0.0"
                ],
                [
                  "3",
                  "PLTR",
                  "1.0"
                ],
                [
                  "4",
                  "SPY",
                  "0.0"
                ],
                [
                  "5",
                  "TSLA",
                  "0.0"
                ]
              ],
              "shape": {
                "columns": 2,
                "rows": 6
              }
            },
            "text/html": [
              "<div>\n",
              "<style scoped>\n",
              "    .dataframe tbody tr th:only-of-type {\n",
              "        vertical-align: middle;\n",
              "    }\n",
              "\n",
              "    .dataframe tbody tr th {\n",
              "        vertical-align: top;\n",
              "    }\n",
              "\n",
              "    .dataframe thead th {\n",
              "        text-align: right;\n",
              "    }\n",
              "</style>\n",
              "<table border=\"1\" class=\"dataframe\">\n",
              "  <thead>\n",
              "    <tr style=\"text-align: right;\">\n",
              "      <th></th>\n",
              "      <th>asset</th>\n",
              "      <th>allocation</th>\n",
              "    </tr>\n",
              "  </thead>\n",
              "  <tbody>\n",
              "    <tr>\n",
              "      <th>0</th>\n",
              "      <td>AAPL</td>\n",
              "      <td>0.0</td>\n",
              "    </tr>\n",
              "    <tr>\n",
              "      <th>1</th>\n",
              "      <td>MSFT</td>\n",
              "      <td>0.0</td>\n",
              "    </tr>\n",
              "    <tr>\n",
              "      <th>2</th>\n",
              "      <td>NVDA</td>\n",
              "      <td>0.0</td>\n",
              "    </tr>\n",
              "    <tr>\n",
              "      <th>3</th>\n",
              "      <td>PLTR</td>\n",
              "      <td>1.0</td>\n",
              "    </tr>\n",
              "    <tr>\n",
              "      <th>4</th>\n",
              "      <td>SPY</td>\n",
              "      <td>0.0</td>\n",
              "    </tr>\n",
              "    <tr>\n",
              "      <th>5</th>\n",
              "      <td>TSLA</td>\n",
              "      <td>0.0</td>\n",
              "    </tr>\n",
              "  </tbody>\n",
              "</table>\n",
              "</div>"
            ],
            "text/plain": [
              "  asset  allocation\n",
              "0  AAPL         0.0\n",
              "1  MSFT         0.0\n",
              "2  NVDA         0.0\n",
              "3  PLTR         1.0\n",
              "4   SPY         0.0\n",
              "5  TSLA         0.0"
            ]
          },
          "metadata": {},
          "output_type": "display_data"
        }
      ],
      "source": [
        "# YOUR CHANGES HERE\n",
        "\n",
        "\n",
        "import pandas as pd\n",
        "\n",
        "expected = pd.read_csv(\"estimated_returns.tsv\", sep=\"\\t\")\n",
        "\n",
        "best_asset = expected.loc[expected[\"estimated_return\"].idxmax(), \"asset\"]\n",
        "\n",
        "allocations = pd.DataFrame({\n",
        "    \"asset\": expected[\"asset\"],\n",
        "    \"allocation\": [1.0 if a == best_asset else 0.0 for a in expected[\"asset\"]]\n",
        "})\n",
        "\n",
        "allocations.to_csv(\"maximum_return.tsv\", sep=\"\\t\", index=False)\n",
        "\n",
        "print(\"Saved maximum_return.tsv (all-in on:\", best_asset, \")\")\n",
        "display(allocations)\n"
      ]
    },
    {
      "cell_type": "markdown",
      "metadata": {
        "id": "4bm3xrxptqJ2"
      },
      "source": [
        "Submit \"maximum_return.tsv\" in Gradescope."
      ]
    },
    {
      "cell_type": "markdown",
      "metadata": {
        "id": "r_QxQ5NpsL-c"
      },
      "source": [
        "## Part 6: Construct the Minimum Risk Portfolio\n",
        "\n",
        "Compute the minimum return portfolio based on your previously estimated risks and returns."
      ]
    },
    {
      "cell_type": "code",
      "execution_count": 14,
      "metadata": {
        "id": "daHSqhv9xbIF"
      },
      "outputs": [
        {
          "name": "stdout",
          "output_type": "stream",
          "text": [
            "Saved minimum_risk.tsv (weights sum to: 1.0 )\n"
          ]
        },
        {
          "data": {
            "application/vnd.microsoft.datawrangler.viewer.v0+json": {
              "columns": [
                {
                  "name": "index",
                  "rawType": "int64",
                  "type": "integer"
                },
                {
                  "name": "asset",
                  "rawType": "object",
                  "type": "string"
                },
                {
                  "name": "allocation",
                  "rawType": "float64",
                  "type": "float"
                }
              ],
              "ref": "860b59d4-ab03-4e7b-9eee-d0119fae31bd",
              "rows": [
                [
                  "0",
                  "AAPL",
                  "0.11462402780972387"
                ],
                [
                  "1",
                  "MSFT",
                  "0.0931548513999422"
                ],
                [
                  "2",
                  "NVDA",
                  "-0.19672002315621245"
                ],
                [
                  "3",
                  "PLTR",
                  "0.0042674436018777856"
                ],
                [
                  "4",
                  "SPY",
                  "1.0794185610393032"
                ],
                [
                  "5",
                  "TSLA",
                  "-0.09474486069463448"
                ]
              ],
              "shape": {
                "columns": 2,
                "rows": 6
              }
            },
            "text/html": [
              "<div>\n",
              "<style scoped>\n",
              "    .dataframe tbody tr th:only-of-type {\n",
              "        vertical-align: middle;\n",
              "    }\n",
              "\n",
              "    .dataframe tbody tr th {\n",
              "        vertical-align: top;\n",
              "    }\n",
              "\n",
              "    .dataframe thead th {\n",
              "        text-align: right;\n",
              "    }\n",
              "</style>\n",
              "<table border=\"1\" class=\"dataframe\">\n",
              "  <thead>\n",
              "    <tr style=\"text-align: right;\">\n",
              "      <th></th>\n",
              "      <th>asset</th>\n",
              "      <th>allocation</th>\n",
              "    </tr>\n",
              "  </thead>\n",
              "  <tbody>\n",
              "    <tr>\n",
              "      <th>0</th>\n",
              "      <td>AAPL</td>\n",
              "      <td>0.114624</td>\n",
              "    </tr>\n",
              "    <tr>\n",
              "      <th>1</th>\n",
              "      <td>MSFT</td>\n",
              "      <td>0.093155</td>\n",
              "    </tr>\n",
              "    <tr>\n",
              "      <th>2</th>\n",
              "      <td>NVDA</td>\n",
              "      <td>-0.196720</td>\n",
              "    </tr>\n",
              "    <tr>\n",
              "      <th>3</th>\n",
              "      <td>PLTR</td>\n",
              "      <td>0.004267</td>\n",
              "    </tr>\n",
              "    <tr>\n",
              "      <th>4</th>\n",
              "      <td>SPY</td>\n",
              "      <td>1.079419</td>\n",
              "    </tr>\n",
              "    <tr>\n",
              "      <th>5</th>\n",
              "      <td>TSLA</td>\n",
              "      <td>-0.094745</td>\n",
              "    </tr>\n",
              "  </tbody>\n",
              "</table>\n",
              "</div>"
            ],
            "text/plain": [
              "  asset  allocation\n",
              "0  AAPL    0.114624\n",
              "1  MSFT    0.093155\n",
              "2  NVDA   -0.196720\n",
              "3  PLTR    0.004267\n",
              "4   SPY    1.079419\n",
              "5  TSLA   -0.094745"
            ]
          },
          "metadata": {},
          "output_type": "display_data"
        }
      ],
      "source": [
        "# YOUR CHANGES HERE\n",
        "\n",
        "\n",
        "import pandas as pd\n",
        "import numpy as np\n",
        "\n",
        "returns = pd.read_csv(\"historical_returns.tsv\", sep=\"\\t\", parse_dates=[\"date\"])\n",
        "assets = returns.columns[1:]   # skip 'date'\n",
        "\n",
        "cov_matrix = returns[assets].cov().values\n",
        "\n",
        "ones = np.ones(len(assets))\n",
        "\n",
        "inv_cov = np.linalg.inv(cov_matrix)\n",
        "w_gmv = inv_cov @ ones / (ones.T @ inv_cov @ ones)\n",
        "\n",
        "min_risk_alloc = pd.DataFrame({\n",
        "    \"asset\": assets,\n",
        "    \"allocation\": w_gmv\n",
        "})\n",
        "\n",
        "min_risk_alloc[\"allocation\"] /= min_risk_alloc[\"allocation\"].sum()\n",
        "\n",
        "min_risk_alloc.to_csv(\"minimum_risk.tsv\", sep=\"\\t\", index=False)\n",
        "\n",
        "print(\"Saved minimum_risk.tsv (weights sum to:\", round(min_risk_alloc[\"allocation\"].sum(), 6), \")\")\n",
        "display(min_risk_alloc)\n"
      ]
    },
    {
      "cell_type": "markdown",
      "metadata": {
        "id": "wzldkIPxsQor"
      },
      "source": [
        "Save the minimum risk portfolio in a TSV file named \"minimum_risk.tsv\".\n",
        "The header row should have two columns, \"asset\" and \"allocation\".\n",
        "The allocation values should sum up to one.\n"
      ]
    },
    {
      "cell_type": "markdown",
      "metadata": {
        "id": "P5gy_XETtsoi"
      },
      "source": [
        "Submit \"minimum_risk.tsv\" in Gradescope."
      ]
    },
    {
      "cell_type": "code",
      "execution_count": 3,
      "metadata": {},
      "outputs": [
        {
          "name": "stdout",
          "output_type": "stream",
          "text": [
            "Saved minimum_risk.tsv; weights sum to: 1.0\n"
          ]
        },
        {
          "data": {
            "application/vnd.microsoft.datawrangler.viewer.v0+json": {
              "columns": [
                {
                  "name": "index",
                  "rawType": "int64",
                  "type": "integer"
                },
                {
                  "name": "asset",
                  "rawType": "object",
                  "type": "string"
                },
                {
                  "name": "allocation",
                  "rawType": "float64",
                  "type": "float"
                }
              ],
              "ref": "64627c77-a376-44ee-9b36-cae3e2930023",
              "rows": [
                [
                  "0",
                  "AAPL",
                  "0.13454423100358695"
                ],
                [
                  "1",
                  "MSFT",
                  "3.040127039893024e-17"
                ],
                [
                  "2",
                  "NVDA",
                  "0.0"
                ],
                [
                  "3",
                  "PLTR",
                  "0.0"
                ],
                [
                  "4",
                  "SPY",
                  "0.8654557689964131"
                ],
                [
                  "5",
                  "TSLA",
                  "6.660777796450639e-18"
                ]
              ],
              "shape": {
                "columns": 2,
                "rows": 6
              }
            },
            "text/html": [
              "<div>\n",
              "<style scoped>\n",
              "    .dataframe tbody tr th:only-of-type {\n",
              "        vertical-align: middle;\n",
              "    }\n",
              "\n",
              "    .dataframe tbody tr th {\n",
              "        vertical-align: top;\n",
              "    }\n",
              "\n",
              "    .dataframe thead th {\n",
              "        text-align: right;\n",
              "    }\n",
              "</style>\n",
              "<table border=\"1\" class=\"dataframe\">\n",
              "  <thead>\n",
              "    <tr style=\"text-align: right;\">\n",
              "      <th></th>\n",
              "      <th>asset</th>\n",
              "      <th>allocation</th>\n",
              "    </tr>\n",
              "  </thead>\n",
              "  <tbody>\n",
              "    <tr>\n",
              "      <th>0</th>\n",
              "      <td>AAPL</td>\n",
              "      <td>1.345442e-01</td>\n",
              "    </tr>\n",
              "    <tr>\n",
              "      <th>1</th>\n",
              "      <td>MSFT</td>\n",
              "      <td>3.040127e-17</td>\n",
              "    </tr>\n",
              "    <tr>\n",
              "      <th>2</th>\n",
              "      <td>NVDA</td>\n",
              "      <td>0.000000e+00</td>\n",
              "    </tr>\n",
              "    <tr>\n",
              "      <th>3</th>\n",
              "      <td>PLTR</td>\n",
              "      <td>0.000000e+00</td>\n",
              "    </tr>\n",
              "    <tr>\n",
              "      <th>4</th>\n",
              "      <td>SPY</td>\n",
              "      <td>8.654558e-01</td>\n",
              "    </tr>\n",
              "    <tr>\n",
              "      <th>5</th>\n",
              "      <td>TSLA</td>\n",
              "      <td>6.660778e-18</td>\n",
              "    </tr>\n",
              "  </tbody>\n",
              "</table>\n",
              "</div>"
            ],
            "text/plain": [
              "  asset    allocation\n",
              "0  AAPL  1.345442e-01\n",
              "1  MSFT  3.040127e-17\n",
              "2  NVDA  0.000000e+00\n",
              "3  PLTR  0.000000e+00\n",
              "4   SPY  8.654558e-01\n",
              "5  TSLA  6.660778e-18"
            ]
          },
          "metadata": {},
          "output_type": "display_data"
        }
      ],
      "source": [
        "\n",
        "import numpy as np\n",
        "import pandas as pd\n",
        "from scipy.optimize import minimize\n",
        "\n",
        "rets = pd.read_csv(\"historical_returns.tsv\", sep=\"\\t\", parse_dates=[\"date\"])\n",
        "assets = rets.columns[1:]  \n",
        "Sigma = rets[assets].cov().values\n",
        "n = len(assets)\n",
        "\n",
        "def port_var(w):\n",
        "    return float(w @ Sigma @ w)\n",
        "\n",
        "cons = [{'type': 'eq', 'fun': lambda w: np.sum(w) - 1.0}]\n",
        "bounds = [(0.0, 1.0) for _ in range(n)]\n",
        "w0 = np.ones(n) / n  \n",
        "\n",
        "res = minimize(port_var, w0, method='SLSQP', bounds=bounds, constraints=cons, options={'ftol':1e-12, 'maxiter':1000})\n",
        "assert res.success, f\"Optimization failed: {res.message}\"\n",
        "\n",
        "w_gmv_long = res.x\n",
        "w_gmv_long = w_gmv_long / w_gmv_long.sum()  \n",
        "\n",
        "out = pd.DataFrame({'asset': assets, 'allocation': w_gmv_long})\n",
        "out.to_csv(\"minimum_risk.tsv\", sep=\"\\t\", index=False)\n",
        "\n",
        "print(\"Saved minimum_risk.tsv; weights sum to:\", out['allocation'].sum().round(12))\n",
        "display(out)\n"
      ]
    },
    {
      "cell_type": "markdown",
      "metadata": {
        "id": "mzyJGWDvWhva"
      },
      "source": [
        "## Part 7: Build Efficient Frontier Portfolios\n",
        "\n",
        "Compute 101 portfolios along the mean-variance efficient frontier with evenly spaced estimated returns.\n",
        "The first portfolio should be the minimum risk portfolio from part 4, and the last portfolio should be the maximum return portfolio from part 3.\n",
        "The estimated return of each portfolio should be higher than the previous by one percent of the difference between the first and last portfolios.\n",
        "That is, the estimated return of the portfolios should be similar to `np.linspace(min_risk_return, max_return, 101)`.\n"
      ]
    },
    {
      "cell_type": "code",
      "execution_count": null,
      "metadata": {
        "id": "XaR6mKwvxZ4W"
      },
      "outputs": [
        {
          "name": "stdout",
          "output_type": "stream",
          "text": [
            "Saved efficient_frontier.tsv\n",
            "First target return (min-risk): 0.009557\n",
            "Last  target return (max-ret) : 0.121729\n"
          ]
        }
      ],
      "source": [
        "# YOUR CHANGES HERE\n",
        "\n",
        "\n",
        "import numpy as np\n",
        "import pandas as pd\n",
        "\n",
        "er   = pd.read_csv(\"estimated_returns.tsv\", sep=\"\\t\")          \n",
        "rets = pd.read_csv(\"historical_returns.tsv\",   sep=\"\\t\")       \n",
        "\n",
        "assets = er[\"asset\"].tolist()\n",
        "mu     = er.set_index(\"asset\")[\"estimated_return\"].loc[assets].values  \n",
        "Sigma  = rets[assets].cov().values                                     \n",
        "n      = len(assets)\n",
        "ones   = np.ones(n)\n",
        "\n",
        "def weights_for_target_return(r):\n",
        "    K = np.block([\n",
        "        [2*Sigma,            mu.reshape(-1,1),  ones.reshape(-1,1)],\n",
        "        [mu.reshape(1,-1),   np.zeros((1,1)),   np.zeros((1,1))   ],\n",
        "        [ones.reshape(1,-1), np.zeros((1,1)),   np.zeros((1,1))   ],\n",
        "    ])\n",
        "    b = np.concatenate([np.zeros(n), [r], [1.0]])\n",
        "    sol = np.linalg.solve(K, b)\n",
        "    return sol[:n]  \n",
        "\n",
        "invS = np.linalg.inv(Sigma)\n",
        "A = ones @ invS @ ones\n",
        "w_gmv = (invS @ ones) / A\n",
        "min_risk_return = float(w_gmv @ mu)\n",
        "\n",
        "max_return = float(mu.max())\n",
        "\n",
        "target_returns = np.linspace(min_risk_return, max_return, 101)\n",
        "\n",
        "W, variances, achieved = [], [], []\n",
        "for r in target_returns:\n",
        "    w = weights_for_target_return(r)\n",
        "    W.append(w)\n",
        "    variances.append(float(w @ Sigma @ w))\n",
        "    achieved.append(float(w @ mu))\n",
        "\n",
        "ef_df = pd.DataFrame(W, columns=assets)\n",
        "ef_df.insert(0, \"portfolio_variance\", variances)\n",
        "ef_df.insert(0, \"target_return\", target_returns)\n",
        "ef_df[\"achieved_return\"] = achieved  \n",
        "\n",
        "assert np.allclose(ef_df[assets].sum(axis=1).values, 1.0, atol=1e-10)\n",
        "assert np.allclose(ef_df[\"achieved_return\"].values, ef_df[\"target_return\"].values, atol=1e-10)\n",
        "\n",
        "ef_df.to_csv(\"efficient_frontier.tsv\", sep=\"\\t\", index=False)\n",
        "print(\"Saved efficient_frontier.tsv\")\n",
        "print(\"First target return (min-risk):\", round(min_risk_return, 6))\n",
        "print(\"Last  target return (max-ret) :\", round(max_return, 6))\n",
        "\n",
        "\n"
      ]
    },
    {
      "cell_type": "markdown",
      "metadata": {
        "id": "8e3WwTJvsDzh"
      },
      "source": [
        "Save the portfolios in a TSV file named \"efficient_frontier.tsv\".\n",
        "The header row should have columns \"index\", \"return\", \"risk\", and all the asset tickers.\n",
        "Each data row should have the portfolio index (0-100), the estimated return of the portfolio, the estimated standard deviation (not variance) of the portfolio, and all the asset allocations (which should sum to one)."
      ]
    },
    {
      "cell_type": "code",
      "execution_count": null,
      "metadata": {
        "id": "e9DKadyNvniT"
      },
      "outputs": [
        {
          "name": "stdout",
          "output_type": "stream",
          "text": [
            "Saved efficient_frontier.tsv with shape: (101, 9)\n"
          ]
        },
        {
          "data": {
            "application/vnd.microsoft.datawrangler.viewer.v0+json": {
              "columns": [
                {
                  "name": "index",
                  "rawType": "int64",
                  "type": "integer"
                },
                {
                  "name": "index",
                  "rawType": "int64",
                  "type": "integer"
                },
                {
                  "name": "return",
                  "rawType": "float64",
                  "type": "float"
                },
                {
                  "name": "risk",
                  "rawType": "float64",
                  "type": "float"
                },
                {
                  "name": "AAPL",
                  "rawType": "float64",
                  "type": "float"
                },
                {
                  "name": "MSFT",
                  "rawType": "float64",
                  "type": "float"
                },
                {
                  "name": "NVDA",
                  "rawType": "float64",
                  "type": "float"
                },
                {
                  "name": "PLTR",
                  "rawType": "float64",
                  "type": "float"
                },
                {
                  "name": "SPY",
                  "rawType": "float64",
                  "type": "float"
                },
                {
                  "name": "TSLA",
                  "rawType": "float64",
                  "type": "float"
                }
              ],
              "ref": "ebf8eebb-8e48-433b-a472-a5b487c7b295",
              "rows": [
                [
                  "0",
                  "0",
                  "0.009557110150707862",
                  "0.029336400808420298",
                  "0.11462402780972358",
                  "0.09315485139994206",
                  "-0.1967200231562125",
                  "0.0042674436018778",
                  "1.0794185610393037",
                  "-0.09474486069463449"
                ],
                [
                  "1",
                  "1",
                  "0.010678826551409719",
                  "0.029364371914138977",
                  "0.11443854273121583",
                  "0.07330368353993678",
                  "-0.1845030839642669",
                  "0.008979997823529108",
                  "1.0813086598959312",
                  "-0.09352780002634584"
                ],
                [
                  "2",
                  "2",
                  "0.01180054295211157",
                  "0.02944812582271826",
                  "0.11425305765270868",
                  "0.05345251567993167",
                  "-0.1722861447723212",
                  "0.013692552045180408",
                  "1.0831987587525576",
                  "-0.09231073935805717"
                ],
                [
                  "3",
                  "3",
                  "0.01292225935281343",
                  "0.02958718881659087",
                  "0.11406757257420175",
                  "0.03360134781992685",
                  "-0.16006920558037557",
                  "0.018405106266831738",
                  "1.085088857609184",
                  "-0.09109367868976859"
                ],
                [
                  "4",
                  "4",
                  "0.014043975753515282",
                  "0.029780786099526245",
                  "0.11388208749569417",
                  "0.013750179959921525",
                  "-0.14785226638842988",
                  "0.023117660488483013",
                  "1.086978956465811",
                  "-0.08987661802147985"
                ]
              ],
              "shape": {
                "columns": 9,
                "rows": 5
              }
            },
            "text/html": [
              "<div>\n",
              "<style scoped>\n",
              "    .dataframe tbody tr th:only-of-type {\n",
              "        vertical-align: middle;\n",
              "    }\n",
              "\n",
              "    .dataframe tbody tr th {\n",
              "        vertical-align: top;\n",
              "    }\n",
              "\n",
              "    .dataframe thead th {\n",
              "        text-align: right;\n",
              "    }\n",
              "</style>\n",
              "<table border=\"1\" class=\"dataframe\">\n",
              "  <thead>\n",
              "    <tr style=\"text-align: right;\">\n",
              "      <th></th>\n",
              "      <th>index</th>\n",
              "      <th>return</th>\n",
              "      <th>risk</th>\n",
              "      <th>AAPL</th>\n",
              "      <th>MSFT</th>\n",
              "      <th>NVDA</th>\n",
              "      <th>PLTR</th>\n",
              "      <th>SPY</th>\n",
              "      <th>TSLA</th>\n",
              "    </tr>\n",
              "  </thead>\n",
              "  <tbody>\n",
              "    <tr>\n",
              "      <th>0</th>\n",
              "      <td>0</td>\n",
              "      <td>0.009557</td>\n",
              "      <td>0.029336</td>\n",
              "      <td>0.114624</td>\n",
              "      <td>0.093155</td>\n",
              "      <td>-0.196720</td>\n",
              "      <td>0.004267</td>\n",
              "      <td>1.079419</td>\n",
              "      <td>-0.094745</td>\n",
              "    </tr>\n",
              "    <tr>\n",
              "      <th>1</th>\n",
              "      <td>1</td>\n",
              "      <td>0.010679</td>\n",
              "      <td>0.029364</td>\n",
              "      <td>0.114439</td>\n",
              "      <td>0.073304</td>\n",
              "      <td>-0.184503</td>\n",
              "      <td>0.008980</td>\n",
              "      <td>1.081309</td>\n",
              "      <td>-0.093528</td>\n",
              "    </tr>\n",
              "    <tr>\n",
              "      <th>2</th>\n",
              "      <td>2</td>\n",
              "      <td>0.011801</td>\n",
              "      <td>0.029448</td>\n",
              "      <td>0.114253</td>\n",
              "      <td>0.053453</td>\n",
              "      <td>-0.172286</td>\n",
              "      <td>0.013693</td>\n",
              "      <td>1.083199</td>\n",
              "      <td>-0.092311</td>\n",
              "    </tr>\n",
              "    <tr>\n",
              "      <th>3</th>\n",
              "      <td>3</td>\n",
              "      <td>0.012922</td>\n",
              "      <td>0.029587</td>\n",
              "      <td>0.114068</td>\n",
              "      <td>0.033601</td>\n",
              "      <td>-0.160069</td>\n",
              "      <td>0.018405</td>\n",
              "      <td>1.085089</td>\n",
              "      <td>-0.091094</td>\n",
              "    </tr>\n",
              "    <tr>\n",
              "      <th>4</th>\n",
              "      <td>4</td>\n",
              "      <td>0.014044</td>\n",
              "      <td>0.029781</td>\n",
              "      <td>0.113882</td>\n",
              "      <td>0.013750</td>\n",
              "      <td>-0.147852</td>\n",
              "      <td>0.023118</td>\n",
              "      <td>1.086979</td>\n",
              "      <td>-0.089877</td>\n",
              "    </tr>\n",
              "  </tbody>\n",
              "</table>\n",
              "</div>"
            ],
            "text/plain": [
              "   index    return      risk      AAPL      MSFT      NVDA      PLTR  \\\n",
              "0      0  0.009557  0.029336  0.114624  0.093155 -0.196720  0.004267   \n",
              "1      1  0.010679  0.029364  0.114439  0.073304 -0.184503  0.008980   \n",
              "2      2  0.011801  0.029448  0.114253  0.053453 -0.172286  0.013693   \n",
              "3      3  0.012922  0.029587  0.114068  0.033601 -0.160069  0.018405   \n",
              "4      4  0.014044  0.029781  0.113882  0.013750 -0.147852  0.023118   \n",
              "\n",
              "        SPY      TSLA  \n",
              "0  1.079419 -0.094745  \n",
              "1  1.081309 -0.093528  \n",
              "2  1.083199 -0.092311  \n",
              "3  1.085089 -0.091094  \n",
              "4  1.086979 -0.089877  "
            ]
          },
          "execution_count": 17,
          "metadata": {},
          "output_type": "execute_result"
        }
      ],
      "source": [
        "# YOUR CHANGES HERE\n",
        "\n",
        "\n",
        "import numpy as np\n",
        "import pandas as pd\n",
        "\n",
        "er   = pd.read_csv(\"estimated_returns.tsv\", sep=\"\\t\")         \n",
        "rets = pd.read_csv(\"historical_returns.tsv\", sep=\"\\t\")       \n",
        "assets = er[\"asset\"].tolist()\n",
        "mu     = er.set_index(\"asset\")[\"estimated_return\"].loc[assets].values  \n",
        "Sigma  = rets[assets].cov().values                                     \n",
        "n      = len(assets)\n",
        "ones   = np.ones(n)\n",
        "\n",
        "def weights_for_target_return(r):\n",
        "    K = np.block([\n",
        "        [2*Sigma,            mu.reshape(-1,1),  ones.reshape(-1,1)],\n",
        "        [mu.reshape(1,-1),   np.zeros((1,1)),   np.zeros((1,1))   ],\n",
        "        [ones.reshape(1,-1), np.zeros((1,1)),   np.zeros((1,1))   ],\n",
        "    ])\n",
        "    b = np.concatenate([np.zeros(n), [r], [1.0]])\n",
        "    sol = np.linalg.solve(K, b)\n",
        "    return sol[:n] \n",
        "\n",
        "invS = np.linalg.inv(Sigma)\n",
        "A = ones @ invS @ ones\n",
        "w_gmv = (invS @ ones) / A\n",
        "min_risk_return = float(w_gmv @ mu)\n",
        "\n",
        "max_return = float(mu.max())\n",
        "\n",
        "target_returns = np.linspace(min_risk_return, max_return, 101)\n",
        "\n",
        "weights_list, returns_list, risks_list = [], [], []\n",
        "for r in target_returns:\n",
        "    w = weights_for_target_return(r)\n",
        "    w = w / w.sum()\n",
        "    weights_list.append(w)\n",
        "    returns_list.append(float(w @ mu))\n",
        "    risks_list.append(float(np.sqrt(w @ Sigma @ w)))  \n",
        "\n",
        "ef = pd.DataFrame(weights_list, columns=assets)\n",
        "ef.insert(0, \"risk\", risks_list)\n",
        "ef.insert(0, \"return\", returns_list)\n",
        "ef.insert(0, \"index\", np.arange(101, dtype=int))\n",
        "\n",
        "assert np.allclose(ef[assets].sum(axis=1).values, 1.0, atol=1e-10)\n",
        "assert len(ef) == 101\n",
        "assert abs(ef.loc[0, \"return\"] - min_risk_return) < 1e-8\n",
        "assert abs(ef.loc[100, \"return\"] - max_return) < 1e-8\n",
        "\n",
        "ef.to_csv(\"efficient_frontier.tsv\", sep=\"\\t\", index=False)\n",
        "\n",
        "print(\"Saved efficient_frontier.tsv with shape:\", ef.shape)\n",
        "ef.head()\n"
      ]
    },
    {
      "cell_type": "markdown",
      "metadata": {
        "id": "jiOa06rItvbs"
      },
      "source": [
        "Submit \"efficient_frontier.tsv\" in Gradescope."
      ]
    },
    {
      "cell_type": "code",
      "execution_count": 4,
      "metadata": {},
      "outputs": [
        {
          "name": "stdout",
          "output_type": "stream",
          "text": [
            "Saved efficient_frontier.tsv. First/last returns: 0.02024802 → 0.12172875\n"
          ]
        },
        {
          "data": {
            "application/vnd.microsoft.datawrangler.viewer.v0+json": {
              "columns": [
                {
                  "name": "index",
                  "rawType": "int64",
                  "type": "integer"
                },
                {
                  "name": "index",
                  "rawType": "int64",
                  "type": "integer"
                },
                {
                  "name": "return",
                  "rawType": "float64",
                  "type": "float"
                },
                {
                  "name": "risk",
                  "rawType": "float64",
                  "type": "float"
                },
                {
                  "name": "AAPL",
                  "rawType": "float64",
                  "type": "float"
                },
                {
                  "name": "MSFT",
                  "rawType": "float64",
                  "type": "float"
                },
                {
                  "name": "NVDA",
                  "rawType": "float64",
                  "type": "float"
                },
                {
                  "name": "PLTR",
                  "rawType": "float64",
                  "type": "float"
                },
                {
                  "name": "SPY",
                  "rawType": "float64",
                  "type": "float"
                },
                {
                  "name": "TSLA",
                  "rawType": "float64",
                  "type": "float"
                }
              ],
              "ref": "9846ce84-f60a-434d-acde-cf5d6b52e6c5",
              "rows": [
                [
                  "0",
                  "0",
                  "0.020248022073629093",
                  "0.03414550818027074",
                  "0.13454423100358573",
                  "0.0",
                  "0.0",
                  "1.3227071535267836e-17",
                  "0.8654557689964143",
                  "0.0"
                ],
                [
                  "1",
                  "1",
                  "0.021262829355101733",
                  "0.03449256581534871",
                  "0.12140284504089534",
                  "8.230516600631715e-17",
                  "3.2683037283741096e-17",
                  "0.009557214731996706",
                  "0.8690399402271078",
                  "5.120544494109135e-17"
                ],
                [
                  "2",
                  "2",
                  "0.022277636636574366",
                  "0.03494357699031544",
                  "0.12021336746509302",
                  "0.0",
                  "1.5100058766005174e-17",
                  "0.0195630691925367",
                  "0.8602235633423702",
                  "2.389708296459764e-17"
                ],
                [
                  "3",
                  "3",
                  "0.023292443918858492",
                  "0.03548801863195153",
                  "0.11902388042497124",
                  "5.701274356166912e-17",
                  "0.0",
                  "0.02956892330585056",
                  "0.851407196269178",
                  "0.0"
                ],
                [
                  "4",
                  "4",
                  "0.024307251199380795",
                  "0.03612166631053943",
                  "0.11783440197815213",
                  "0.0",
                  "5.0678752846717864e-18",
                  "0.039574777724283146",
                  "0.8425908202975646",
                  "0.0"
                ]
              ],
              "shape": {
                "columns": 9,
                "rows": 5
              }
            },
            "text/html": [
              "<div>\n",
              "<style scoped>\n",
              "    .dataframe tbody tr th:only-of-type {\n",
              "        vertical-align: middle;\n",
              "    }\n",
              "\n",
              "    .dataframe tbody tr th {\n",
              "        vertical-align: top;\n",
              "    }\n",
              "\n",
              "    .dataframe thead th {\n",
              "        text-align: right;\n",
              "    }\n",
              "</style>\n",
              "<table border=\"1\" class=\"dataframe\">\n",
              "  <thead>\n",
              "    <tr style=\"text-align: right;\">\n",
              "      <th></th>\n",
              "      <th>index</th>\n",
              "      <th>return</th>\n",
              "      <th>risk</th>\n",
              "      <th>AAPL</th>\n",
              "      <th>MSFT</th>\n",
              "      <th>NVDA</th>\n",
              "      <th>PLTR</th>\n",
              "      <th>SPY</th>\n",
              "      <th>TSLA</th>\n",
              "    </tr>\n",
              "  </thead>\n",
              "  <tbody>\n",
              "    <tr>\n",
              "      <th>0</th>\n",
              "      <td>0</td>\n",
              "      <td>0.020248</td>\n",
              "      <td>0.034146</td>\n",
              "      <td>0.134544</td>\n",
              "      <td>0.000000e+00</td>\n",
              "      <td>0.000000e+00</td>\n",
              "      <td>1.322707e-17</td>\n",
              "      <td>0.865456</td>\n",
              "      <td>0.000000e+00</td>\n",
              "    </tr>\n",
              "    <tr>\n",
              "      <th>1</th>\n",
              "      <td>1</td>\n",
              "      <td>0.021263</td>\n",
              "      <td>0.034493</td>\n",
              "      <td>0.121403</td>\n",
              "      <td>8.230517e-17</td>\n",
              "      <td>3.268304e-17</td>\n",
              "      <td>9.557215e-03</td>\n",
              "      <td>0.869040</td>\n",
              "      <td>5.120544e-17</td>\n",
              "    </tr>\n",
              "    <tr>\n",
              "      <th>2</th>\n",
              "      <td>2</td>\n",
              "      <td>0.022278</td>\n",
              "      <td>0.034944</td>\n",
              "      <td>0.120213</td>\n",
              "      <td>0.000000e+00</td>\n",
              "      <td>1.510006e-17</td>\n",
              "      <td>1.956307e-02</td>\n",
              "      <td>0.860224</td>\n",
              "      <td>2.389708e-17</td>\n",
              "    </tr>\n",
              "    <tr>\n",
              "      <th>3</th>\n",
              "      <td>3</td>\n",
              "      <td>0.023292</td>\n",
              "      <td>0.035488</td>\n",
              "      <td>0.119024</td>\n",
              "      <td>5.701274e-17</td>\n",
              "      <td>0.000000e+00</td>\n",
              "      <td>2.956892e-02</td>\n",
              "      <td>0.851407</td>\n",
              "      <td>0.000000e+00</td>\n",
              "    </tr>\n",
              "    <tr>\n",
              "      <th>4</th>\n",
              "      <td>4</td>\n",
              "      <td>0.024307</td>\n",
              "      <td>0.036122</td>\n",
              "      <td>0.117834</td>\n",
              "      <td>0.000000e+00</td>\n",
              "      <td>5.067875e-18</td>\n",
              "      <td>3.957478e-02</td>\n",
              "      <td>0.842591</td>\n",
              "      <td>0.000000e+00</td>\n",
              "    </tr>\n",
              "  </tbody>\n",
              "</table>\n",
              "</div>"
            ],
            "text/plain": [
              "   index    return      risk      AAPL          MSFT          NVDA  \\\n",
              "0      0  0.020248  0.034146  0.134544  0.000000e+00  0.000000e+00   \n",
              "1      1  0.021263  0.034493  0.121403  8.230517e-17  3.268304e-17   \n",
              "2      2  0.022278  0.034944  0.120213  0.000000e+00  1.510006e-17   \n",
              "3      3  0.023292  0.035488  0.119024  5.701274e-17  0.000000e+00   \n",
              "4      4  0.024307  0.036122  0.117834  0.000000e+00  5.067875e-18   \n",
              "\n",
              "           PLTR       SPY          TSLA  \n",
              "0  1.322707e-17  0.865456  0.000000e+00  \n",
              "1  9.557215e-03  0.869040  5.120544e-17  \n",
              "2  1.956307e-02  0.860224  2.389708e-17  \n",
              "3  2.956892e-02  0.851407  0.000000e+00  \n",
              "4  3.957478e-02  0.842591  0.000000e+00  "
            ]
          },
          "metadata": {},
          "output_type": "display_data"
        },
        {
          "data": {
            "application/vnd.microsoft.datawrangler.viewer.v0+json": {
              "columns": [
                {
                  "name": "index",
                  "rawType": "int64",
                  "type": "integer"
                },
                {
                  "name": "index",
                  "rawType": "int64",
                  "type": "integer"
                },
                {
                  "name": "return",
                  "rawType": "float64",
                  "type": "float"
                },
                {
                  "name": "risk",
                  "rawType": "float64",
                  "type": "float"
                },
                {
                  "name": "AAPL",
                  "rawType": "float64",
                  "type": "float"
                },
                {
                  "name": "MSFT",
                  "rawType": "float64",
                  "type": "float"
                },
                {
                  "name": "NVDA",
                  "rawType": "float64",
                  "type": "float"
                },
                {
                  "name": "PLTR",
                  "rawType": "float64",
                  "type": "float"
                },
                {
                  "name": "SPY",
                  "rawType": "float64",
                  "type": "float"
                },
                {
                  "name": "TSLA",
                  "rawType": "float64",
                  "type": "float"
                }
              ],
              "ref": "be61cc27-551d-4128-b6c8-295c1365a578",
              "rows": [
                [
                  "96",
                  "96",
                  "0.11766952109500281",
                  "0.18247311087095144",
                  "0.0",
                  "0.0",
                  "0.07781945945681959",
                  "0.9221805405431804",
                  "3.4983254598405325e-17",
                  "9.71872828908999e-19"
                ],
                [
                  "97",
                  "97",
                  "0.11868432837486244",
                  "0.18579254080026453",
                  "2.7541003573979504e-17",
                  "2.4278372949121103e-23",
                  "0.058364594623538234",
                  "0.9416354053764618",
                  "2.4505133050209183e-18",
                  "1.0915437055453407e-17"
                ],
                [
                  "98",
                  "98",
                  "0.11969913565024608",
                  "0.18914344261576224",
                  "8.10462938674601e-19",
                  "4.582221222418924e-19",
                  "0.03890972987606565",
                  "0.9610902701239344",
                  "1.6075291643552896e-25",
                  "3.0824721426511726e-19"
                ],
                [
                  "99",
                  "99",
                  "0.12071394293942075",
                  "0.19252417307075426",
                  "0.0",
                  "0.0",
                  "0.019454864864205043",
                  "0.980545135135795",
                  "2.2200470975911897e-17",
                  "0.0"
                ],
                [
                  "100",
                  "100",
                  "0.1217287502208934",
                  "0.1959331880670093",
                  "0.0",
                  "0.0",
                  "0.0",
                  "1.0",
                  "0.0",
                  "0.0"
                ]
              ],
              "shape": {
                "columns": 9,
                "rows": 5
              }
            },
            "text/html": [
              "<div>\n",
              "<style scoped>\n",
              "    .dataframe tbody tr th:only-of-type {\n",
              "        vertical-align: middle;\n",
              "    }\n",
              "\n",
              "    .dataframe tbody tr th {\n",
              "        vertical-align: top;\n",
              "    }\n",
              "\n",
              "    .dataframe thead th {\n",
              "        text-align: right;\n",
              "    }\n",
              "</style>\n",
              "<table border=\"1\" class=\"dataframe\">\n",
              "  <thead>\n",
              "    <tr style=\"text-align: right;\">\n",
              "      <th></th>\n",
              "      <th>index</th>\n",
              "      <th>return</th>\n",
              "      <th>risk</th>\n",
              "      <th>AAPL</th>\n",
              "      <th>MSFT</th>\n",
              "      <th>NVDA</th>\n",
              "      <th>PLTR</th>\n",
              "      <th>SPY</th>\n",
              "      <th>TSLA</th>\n",
              "    </tr>\n",
              "  </thead>\n",
              "  <tbody>\n",
              "    <tr>\n",
              "      <th>96</th>\n",
              "      <td>96</td>\n",
              "      <td>0.117670</td>\n",
              "      <td>0.182473</td>\n",
              "      <td>0.000000e+00</td>\n",
              "      <td>0.000000e+00</td>\n",
              "      <td>0.077819</td>\n",
              "      <td>0.922181</td>\n",
              "      <td>3.498325e-17</td>\n",
              "      <td>9.718728e-19</td>\n",
              "    </tr>\n",
              "    <tr>\n",
              "      <th>97</th>\n",
              "      <td>97</td>\n",
              "      <td>0.118684</td>\n",
              "      <td>0.185793</td>\n",
              "      <td>2.754100e-17</td>\n",
              "      <td>2.427837e-23</td>\n",
              "      <td>0.058365</td>\n",
              "      <td>0.941635</td>\n",
              "      <td>2.450513e-18</td>\n",
              "      <td>1.091544e-17</td>\n",
              "    </tr>\n",
              "    <tr>\n",
              "      <th>98</th>\n",
              "      <td>98</td>\n",
              "      <td>0.119699</td>\n",
              "      <td>0.189143</td>\n",
              "      <td>8.104629e-19</td>\n",
              "      <td>4.582221e-19</td>\n",
              "      <td>0.038910</td>\n",
              "      <td>0.961090</td>\n",
              "      <td>1.607529e-25</td>\n",
              "      <td>3.082472e-19</td>\n",
              "    </tr>\n",
              "    <tr>\n",
              "      <th>99</th>\n",
              "      <td>99</td>\n",
              "      <td>0.120714</td>\n",
              "      <td>0.192524</td>\n",
              "      <td>0.000000e+00</td>\n",
              "      <td>0.000000e+00</td>\n",
              "      <td>0.019455</td>\n",
              "      <td>0.980545</td>\n",
              "      <td>2.220047e-17</td>\n",
              "      <td>0.000000e+00</td>\n",
              "    </tr>\n",
              "    <tr>\n",
              "      <th>100</th>\n",
              "      <td>100</td>\n",
              "      <td>0.121729</td>\n",
              "      <td>0.195933</td>\n",
              "      <td>0.000000e+00</td>\n",
              "      <td>0.000000e+00</td>\n",
              "      <td>0.000000</td>\n",
              "      <td>1.000000</td>\n",
              "      <td>0.000000e+00</td>\n",
              "      <td>0.000000e+00</td>\n",
              "    </tr>\n",
              "  </tbody>\n",
              "</table>\n",
              "</div>"
            ],
            "text/plain": [
              "     index    return      risk          AAPL          MSFT      NVDA  \\\n",
              "96      96  0.117670  0.182473  0.000000e+00  0.000000e+00  0.077819   \n",
              "97      97  0.118684  0.185793  2.754100e-17  2.427837e-23  0.058365   \n",
              "98      98  0.119699  0.189143  8.104629e-19  4.582221e-19  0.038910   \n",
              "99      99  0.120714  0.192524  0.000000e+00  0.000000e+00  0.019455   \n",
              "100    100  0.121729  0.195933  0.000000e+00  0.000000e+00  0.000000   \n",
              "\n",
              "         PLTR           SPY          TSLA  \n",
              "96   0.922181  3.498325e-17  9.718728e-19  \n",
              "97   0.941635  2.450513e-18  1.091544e-17  \n",
              "98   0.961090  1.607529e-25  3.082472e-19  \n",
              "99   0.980545  2.220047e-17  0.000000e+00  \n",
              "100  1.000000  0.000000e+00  0.000000e+00  "
            ]
          },
          "metadata": {},
          "output_type": "display_data"
        }
      ],
      "source": [
        "# --- Part 7: Long-only efficient frontier (101 portfolios) ---\n",
        "\n",
        "import numpy as np\n",
        "import pandas as pd\n",
        "from scipy.optimize import minimize\n",
        "\n",
        "# Inputs\n",
        "er   = pd.read_csv(\"estimated_returns.tsv\", sep=\"\\t\")  # columns: asset, estimated_return\n",
        "rets = pd.read_csv(\"historical_returns.tsv\", sep=\"\\t\") # columns: date, tickers\n",
        "\n",
        "assets = er[\"asset\"].tolist()\n",
        "mu = er.set_index(\"asset\")[\"estimated_return\"].loc[assets].values\n",
        "Sigma = rets[assets].cov().values\n",
        "n = len(assets)\n",
        "\n",
        "# Helper: variance objective & constraints\n",
        "def port_var(w): return float(w @ Sigma @ w)\n",
        "\n",
        "def solve_min_var_with_target(target_return):\n",
        "    cons = [\n",
        "        {'type': 'eq', 'fun': lambda w: np.sum(w) - 1.0},                # fully invested\n",
        "        {'type': 'eq', 'fun': lambda w, tr=target_return: w @ mu - tr},  # target mean\n",
        "    ]\n",
        "    bounds = [(0.0, 1.0) for _ in range(n)]\n",
        "    # Good starting point: tilt equal-weights toward the max-return asset\n",
        "    w0 = np.zeros(n); w0[np.argmax(mu)] = 1.0\n",
        "    res = minimize(port_var, w0, method='SLSQP', bounds=bounds, constraints=cons, options={'ftol':1e-12, 'maxiter':2000})\n",
        "    if not res.success:\n",
        "        # Sometimes the starting point causes trouble near boundaries; try equal-weights fallback\n",
        "        w0 = np.ones(n)/n\n",
        "        res = minimize(port_var, w0, method='SLSQP', bounds=bounds, constraints=cons, options={'ftol':1e-12, 'maxiter':2000})\n",
        "        assert res.success, f\"Frontier solve failed at target return {target_return}: {res.message}\"\n",
        "    w = res.x\n",
        "    # Numerical tidy-up\n",
        "    w[w < 0] = 0\n",
        "    s = w.sum()\n",
        "    if s <= 0:  # extreme numerical issue guard\n",
        "        w = np.ones(n)/n\n",
        "    else:\n",
        "        w = w / s\n",
        "    return w\n",
        "\n",
        "# 1) Compute long-only GMV weights to get the starting return\n",
        "def gmv_long_only(Sigma):\n",
        "    def var(w): return float(w @ Sigma @ w)\n",
        "    cons = [{'type':'eq', 'fun': lambda w: np.sum(w)-1.0}]\n",
        "    bounds = [(0,1)]*n\n",
        "    w0 = np.ones(n)/n\n",
        "    res = minimize(var, w0, method='SLSQP', bounds=bounds, constraints=cons, options={'ftol':1e-12, 'maxiter':1000})\n",
        "    assert res.success, res.message\n",
        "    w = res.x; w = w / w.sum()\n",
        "    return w\n",
        "\n",
        "w_gmv_lo = gmv_long_only(Sigma)\n",
        "min_risk_return = float(w_gmv_lo @ mu)\n",
        "\n",
        "# 2) Max single-asset expected return (end of grid); last portfolio must be one-hot on this asset\n",
        "imax = int(np.argmax(mu))\n",
        "max_return = float(mu[imax])\n",
        "unit_max = np.zeros(n); unit_max[imax] = 1.0\n",
        "\n",
        "# 3) Build target return grid and solve frontier\n",
        "target_returns = np.linspace(min_risk_return, max_return, 101)\n",
        "rows = []\n",
        "for i, tr in enumerate(target_returns):\n",
        "    # For the very last point, we *know* the long-only minimum-variance solution is all-in on the max asset\n",
        "    if i == len(target_returns) - 1:\n",
        "        w = unit_max.copy()\n",
        "    else:\n",
        "        w = solve_min_var_with_target(tr)\n",
        "    pr = float(w @ mu)\n",
        "    risk = float(np.sqrt(w @ Sigma @ w))\n",
        "    rows.append([i, pr, risk, *w])\n",
        "\n",
        "ef = pd.DataFrame(rows, columns=[\"index\", \"return\", \"risk\", *assets])\n",
        "\n",
        "# Sanity: allocations sum to 1; first return matches GMV long-only; last weights one-hot on max asset\n",
        "assert np.allclose(ef[assets].sum(axis=1).values, 1.0, atol=1e-8)\n",
        "assert abs(ef.loc[0, \"return\"] - min_risk_return) < 1e-8\n",
        "assert np.allclose(ef.loc[100, assets].values, unit_max, atol=1e-8)\n",
        "\n",
        "# Save exactly as required\n",
        "ef.to_csv(\"efficient_frontier.tsv\", sep=\"\\t\", index=False)\n",
        "\n",
        "print(\"Saved efficient_frontier.tsv. First/last returns:\",\n",
        "      round(ef.loc[0,'return'], 8), \"→\", round(ef.loc[100,'return'], 8))\n",
        "display(ef.head())\n",
        "display(ef.tail())\n"
      ]
    },
    {
      "cell_type": "markdown",
      "metadata": {
        "id": "LoW0XBXAzzR6"
      },
      "source": [
        "## Part 8: Check Maximum Return Portfolio Stability\n",
        "\n",
        "Check the stability of the maximum return portfolio by resampling the estimated risk/return model.\n",
        "\n",
        "Repeat 1000 times -\n",
        "1. Use `np.random.multivariate_normal` to generate 23 return samples using your previously estimated risks and returns.\n",
        "2. Estimate the return of each asset using that resampled return history.\n",
        "3. Check which asset had the highest return in those resampled estimates.\n",
        "\n",
        "This procedure is a reduced and simplified version of the Michaud resampled efficient frontier procedure that takes uncertainty in the risk model into account."
      ]
    },
    {
      "cell_type": "code",
      "execution_count": null,
      "metadata": {
        "id": "Xfke5V57xYvT"
      },
      "outputs": [
        {
          "name": "stdout",
          "output_type": "stream",
          "text": [
            "Saved:\n",
            " - max_return_stability.tsv   (wins and proportions by asset)\n",
            " - max_return_winners_by_iter.tsv  (winner asset for each resample)\n"
          ]
        },
        {
          "data": {
            "application/vnd.microsoft.datawrangler.viewer.v0+json": {
              "columns": [
                {
                  "name": "index",
                  "rawType": "int64",
                  "type": "integer"
                },
                {
                  "name": "asset",
                  "rawType": "object",
                  "type": "string"
                },
                {
                  "name": "wins",
                  "rawType": "int64",
                  "type": "integer"
                },
                {
                  "name": "proportion",
                  "rawType": "float64",
                  "type": "float"
                }
              ],
              "ref": "82c624d3-1f92-463f-ac32-998255421b55",
              "rows": [
                [
                  "0",
                  "AAPL",
                  "1",
                  "0.001"
                ],
                [
                  "1",
                  "MSFT",
                  "0",
                  "0.0"
                ],
                [
                  "2",
                  "NVDA",
                  "123",
                  "0.123"
                ],
                [
                  "3",
                  "PLTR",
                  "875",
                  "0.875"
                ],
                [
                  "4",
                  "SPY",
                  "0",
                  "0.0"
                ],
                [
                  "5",
                  "TSLA",
                  "1",
                  "0.001"
                ]
              ],
              "shape": {
                "columns": 3,
                "rows": 6
              }
            },
            "text/html": [
              "<div>\n",
              "<style scoped>\n",
              "    .dataframe tbody tr th:only-of-type {\n",
              "        vertical-align: middle;\n",
              "    }\n",
              "\n",
              "    .dataframe tbody tr th {\n",
              "        vertical-align: top;\n",
              "    }\n",
              "\n",
              "    .dataframe thead th {\n",
              "        text-align: right;\n",
              "    }\n",
              "</style>\n",
              "<table border=\"1\" class=\"dataframe\">\n",
              "  <thead>\n",
              "    <tr style=\"text-align: right;\">\n",
              "      <th></th>\n",
              "      <th>asset</th>\n",
              "      <th>wins</th>\n",
              "      <th>proportion</th>\n",
              "    </tr>\n",
              "  </thead>\n",
              "  <tbody>\n",
              "    <tr>\n",
              "      <th>0</th>\n",
              "      <td>AAPL</td>\n",
              "      <td>1</td>\n",
              "      <td>0.001</td>\n",
              "    </tr>\n",
              "    <tr>\n",
              "      <th>1</th>\n",
              "      <td>MSFT</td>\n",
              "      <td>0</td>\n",
              "      <td>0.000</td>\n",
              "    </tr>\n",
              "    <tr>\n",
              "      <th>2</th>\n",
              "      <td>NVDA</td>\n",
              "      <td>123</td>\n",
              "      <td>0.123</td>\n",
              "    </tr>\n",
              "    <tr>\n",
              "      <th>3</th>\n",
              "      <td>PLTR</td>\n",
              "      <td>875</td>\n",
              "      <td>0.875</td>\n",
              "    </tr>\n",
              "    <tr>\n",
              "      <th>4</th>\n",
              "      <td>SPY</td>\n",
              "      <td>0</td>\n",
              "      <td>0.000</td>\n",
              "    </tr>\n",
              "    <tr>\n",
              "      <th>5</th>\n",
              "      <td>TSLA</td>\n",
              "      <td>1</td>\n",
              "      <td>0.001</td>\n",
              "    </tr>\n",
              "  </tbody>\n",
              "</table>\n",
              "</div>"
            ],
            "text/plain": [
              "  asset  wins  proportion\n",
              "0  AAPL     1       0.001\n",
              "1  MSFT     0       0.000\n",
              "2  NVDA   123       0.123\n",
              "3  PLTR   875       0.875\n",
              "4   SPY     0       0.000\n",
              "5  TSLA     1       0.001"
            ]
          },
          "metadata": {},
          "output_type": "display_data"
        }
      ],
      "source": [
        "# YOUR CHANGES HERE\n",
        "\n",
        "\n",
        "import numpy as np\n",
        "import pandas as pd\n",
        "\n",
        "er    = pd.read_csv(\"estimated_returns.tsv\", sep=\"\\t\")          \n",
        "rets  = pd.read_csv(\"historical_returns.tsv\",  sep=\"\\t\")         \n",
        "\n",
        "assets = er[\"asset\"].tolist()\n",
        "mu     = er.set_index(\"asset\")[\"estimated_return\"].loc[assets].values    \n",
        "Sigma  = rets[assets].cov().values                                       \n",
        "T      = rets.shape[0]                                                   \n",
        "n_iter = 1000\n",
        "rng    = np.random.default_rng(42)  \n",
        "\n",
        "eigvals = np.linalg.eigvalsh(Sigma)\n",
        "if eigvals.min() < 0:\n",
        "    Sigma = Sigma + np.eye(len(assets)) * ( -eigvals.min() + 1e-12 )\n",
        "\n",
        "winners = []\n",
        "\n",
        "for _ in range(n_iter):\n",
        "    sample = rng.multivariate_normal(mean=mu, cov=Sigma, size=T)  # shape (T, n_assets)\n",
        "    est_means = sample.mean(axis=0)\n",
        "    winners.append(assets[int(np.argmax(est_means))])\n",
        "\n",
        "counts = pd.Series(winners, name=\"count\").value_counts().reindex(assets, fill_value=0)\n",
        "props  = counts / n_iter\n",
        "\n",
        "stability = pd.DataFrame({\n",
        "    \"asset\": assets,\n",
        "    \"wins\": counts.values,\n",
        "    \"proportion\": props.values\n",
        "})\n",
        "\n",
        "stability.to_csv(\"max_return_stability.tsv\", sep=\"\\t\", index=False)\n",
        "pd.DataFrame({\"iteration\": np.arange(n_iter), \"winner\": winners}) \\\n",
        "  .to_csv(\"max_return_winners_by_iter.tsv\", sep=\"\\t\", index=False)\n",
        "\n",
        "print(\"Saved:\")\n",
        "print(\" - max_return_stability.tsv   (wins and proportions by asset)\")\n",
        "print(\" - max_return_winners_by_iter.tsv  (winner asset for each resample)\")\n",
        "display(stability)\n"
      ]
    },
    {
      "cell_type": "markdown",
      "metadata": {
        "id": "fes_ScDyz0jp"
      },
      "source": [
        "Save a file \"max_return_probabilities.tsv\" with the distribution of highest return assets.\n",
        "The header row should have columns \"asset\" and \"probability\".\n",
        "There should be a data row for each asset and its sample probability of having the highest return based on those 1000 resampled estimates.\n"
      ]
    },
    {
      "cell_type": "code",
      "execution_count": 19,
      "metadata": {
        "id": "ZAjr15ASvj1S"
      },
      "outputs": [
        {
          "name": "stdout",
          "output_type": "stream",
          "text": [
            "Saved max_return_probabilities.tsv\n"
          ]
        },
        {
          "data": {
            "application/vnd.microsoft.datawrangler.viewer.v0+json": {
              "columns": [
                {
                  "name": "index",
                  "rawType": "int64",
                  "type": "integer"
                },
                {
                  "name": "asset",
                  "rawType": "object",
                  "type": "string"
                },
                {
                  "name": "probability",
                  "rawType": "float64",
                  "type": "float"
                }
              ],
              "ref": "36b771b8-a406-4e2b-9aa2-33ff172bc6d2",
              "rows": [
                [
                  "0",
                  "AAPL",
                  "0.001"
                ],
                [
                  "1",
                  "MSFT",
                  "0.0"
                ],
                [
                  "2",
                  "NVDA",
                  "0.123"
                ],
                [
                  "3",
                  "PLTR",
                  "0.875"
                ],
                [
                  "4",
                  "SPY",
                  "0.0"
                ],
                [
                  "5",
                  "TSLA",
                  "0.001"
                ]
              ],
              "shape": {
                "columns": 2,
                "rows": 6
              }
            },
            "text/html": [
              "<div>\n",
              "<style scoped>\n",
              "    .dataframe tbody tr th:only-of-type {\n",
              "        vertical-align: middle;\n",
              "    }\n",
              "\n",
              "    .dataframe tbody tr th {\n",
              "        vertical-align: top;\n",
              "    }\n",
              "\n",
              "    .dataframe thead th {\n",
              "        text-align: right;\n",
              "    }\n",
              "</style>\n",
              "<table border=\"1\" class=\"dataframe\">\n",
              "  <thead>\n",
              "    <tr style=\"text-align: right;\">\n",
              "      <th></th>\n",
              "      <th>asset</th>\n",
              "      <th>probability</th>\n",
              "    </tr>\n",
              "  </thead>\n",
              "  <tbody>\n",
              "    <tr>\n",
              "      <th>0</th>\n",
              "      <td>AAPL</td>\n",
              "      <td>0.001</td>\n",
              "    </tr>\n",
              "    <tr>\n",
              "      <th>1</th>\n",
              "      <td>MSFT</td>\n",
              "      <td>0.000</td>\n",
              "    </tr>\n",
              "    <tr>\n",
              "      <th>2</th>\n",
              "      <td>NVDA</td>\n",
              "      <td>0.123</td>\n",
              "    </tr>\n",
              "    <tr>\n",
              "      <th>3</th>\n",
              "      <td>PLTR</td>\n",
              "      <td>0.875</td>\n",
              "    </tr>\n",
              "    <tr>\n",
              "      <th>4</th>\n",
              "      <td>SPY</td>\n",
              "      <td>0.000</td>\n",
              "    </tr>\n",
              "    <tr>\n",
              "      <th>5</th>\n",
              "      <td>TSLA</td>\n",
              "      <td>0.001</td>\n",
              "    </tr>\n",
              "  </tbody>\n",
              "</table>\n",
              "</div>"
            ],
            "text/plain": [
              "  asset  probability\n",
              "0  AAPL        0.001\n",
              "1  MSFT        0.000\n",
              "2  NVDA        0.123\n",
              "3  PLTR        0.875\n",
              "4   SPY        0.000\n",
              "5  TSLA        0.001"
            ]
          },
          "metadata": {},
          "output_type": "display_data"
        }
      ],
      "source": [
        "# YOUR CHANGES HERE\n",
        "\n",
        "\n",
        "import numpy as np\n",
        "import pandas as pd\n",
        "\n",
        "er    = pd.read_csv(\"estimated_returns.tsv\", sep=\"\\t\")\n",
        "rets  = pd.read_csv(\"historical_returns.tsv\", sep=\"\\t\")\n",
        "\n",
        "assets = er[\"asset\"].tolist()\n",
        "mu     = er.set_index(\"asset\")[\"estimated_return\"].loc[assets].values\n",
        "Sigma  = rets[assets].cov().values\n",
        "T      = rets.shape[0]      \n",
        "n_iter = 1000\n",
        "rng    = np.random.default_rng(42)\n",
        "\n",
        "eigvals = np.linalg.eigvalsh(Sigma)\n",
        "if eigvals.min() < 0:\n",
        "    Sigma = Sigma + np.eye(len(assets)) * (-eigvals.min() + 1e-12)\n",
        "\n",
        "winners = []\n",
        "\n",
        "for _ in range(n_iter):\n",
        "    sample = rng.multivariate_normal(mean=mu, cov=Sigma, size=T)\n",
        "    est_means = sample.mean(axis=0)\n",
        "    winners.append(assets[int(np.argmax(est_means))])\n",
        "\n",
        "counts = pd.Series(winners).value_counts().reindex(assets, fill_value=0)\n",
        "probs  = counts / n_iter\n",
        "\n",
        "prob_df = pd.DataFrame({\n",
        "    \"asset\": assets,\n",
        "    \"probability\": probs.values\n",
        "})\n",
        "\n",
        "prob_df.to_csv(\"max_return_probabilities.tsv\", sep=\"\\t\", index=False)\n",
        "\n",
        "print(\"Saved max_return_probabilities.tsv\")\n",
        "display(prob_df)\n"
      ]
    },
    {
      "cell_type": "markdown",
      "metadata": {
        "id": "2Xd34FQ6txoj"
      },
      "source": [
        "Submit \"max_return_probabilities.tsv\" in Gradescope."
      ]
    },
    {
      "cell_type": "markdown",
      "metadata": {
        "id": "SYbJ21qUYvL_"
      },
      "source": [
        "## Part 9: Acknowledgments\n",
        "\n",
        "Make a file \"acknowledgments.txt\" documenting any outside sources or help on this project.\n",
        "If you discussed this assignment with anyone, please acknowledge them here.\n",
        "If you used any libraries not mentioned in this module's content, please list them with a brief explanation what you used them for.\n",
        "If you used any generative AI tools, please add links to your transcripts below, and any other information that you feel is necessary to comply with the generative AI policy.\n",
        "If no acknowledgements are appropriate, just write none in the file.\n"
      ]
    },
    {
      "cell_type": "markdown",
      "metadata": {
        "id": "H3oWYYHlt42V"
      },
      "source": [
        "Submit \"acknowledgements.txt\" in Gradescope."
      ]
    },
    {
      "cell_type": "code",
      "execution_count": 6,
      "metadata": {},
      "outputs": [
        {
          "name": "stdout",
          "output_type": "stream",
          "text": [
            "Saved acknowledgments.txt\n"
          ]
        }
      ],
      "source": [
        "acknowledgments_text = \"My dad helped me with this\"\n",
        "\n",
        "with open(\"acknowledgments.txt\", \"w\") as f:\n",
        "    f.write(acknowledgments_text)\n",
        "\n",
        "print(\"Saved acknowledgments.txt\")"
      ]
    },
    {
      "cell_type": "markdown",
      "metadata": {
        "id": "b8FWiTjvwscA"
      },
      "source": [
        "## Part 10: Code\n",
        "\n",
        "Please submit a Jupyter notebook that can reproduce all your calculations and recreate the previously submitted files.\n",
        "You do not need to provide code for data collection if you did that by manually."
      ]
    },
    {
      "cell_type": "markdown",
      "metadata": {
        "id": "HDEYI-K8vcUW"
      },
      "source": [
        "Submit \"project.ipynb\" in Gradescope."
      ]
    }
  ],
  "metadata": {
    "colab": {
      "toc_visible": false
    },
    "kernelspec": {
      "display_name": "Python 3",
      "name": "python3"
    },
    "language_info": {
      "codemirror_mode": {
        "name": "ipython",
        "version": 3
      },
      "file_extension": ".py",
      "mimetype": "text/x-python",
      "name": "python",
      "nbconvert_exporter": "python",
      "pygments_lexer": "ipython3",
      "version": "3.12.1"
    }
  },
  "nbformat": 4,
  "nbformat_minor": 0
}
